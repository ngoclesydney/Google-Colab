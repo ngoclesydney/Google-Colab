{
  "nbformat": 4,
  "nbformat_minor": 0,
  "metadata": {
    "colab": {
      "name": "ML start on 3-01-20.ipynb",
      "provenance": [],
      "collapsed_sections": [],
      "include_colab_link": true
    },
    "kernelspec": {
      "name": "python3",
      "display_name": "Python 3"
    },
    "accelerator": "GPU"
  },
  "cells": [
    {
      "cell_type": "markdown",
      "metadata": {
        "id": "view-in-github",
        "colab_type": "text"
      },
      "source": [
        "<a href=\"https://colab.research.google.com/github/ngoclesydney/Google-Colab/blob/master/ML_start_on_3_01_20.ipynb\" target=\"_parent\"><img src=\"https://colab.research.google.com/assets/colab-badge.svg\" alt=\"Open In Colab\"/></a>"
      ]
    },
    {
      "cell_type": "code",
      "metadata": {
        "id": "vGM-LjU8UrnT",
        "colab_type": "code",
        "colab": {}
      },
      "source": [
        "# This practice is refered from the origin \n",
        "#https://github.com/bangoc123/learn-machine-learning-in-two-months\n",
        "#/blob/master/models/linear-regression/GrabProblem/Grab-Solution.ipynb \n",
        "#author bangoc123\n",
        "import numpy as np\n",
        "import matplotlib.pyplot as plt\n",
        "# Function for polynomial display\n",
        "# We do not need pay much attention on this part\n",
        "def plot_polynomial(xmin, xmax, coef, color='C1'):\n",
        "    #xs is an array of evenly spaced numbers between xmin and xmax\n",
        "    xs = np.linspace(xmin, xmax, num=500)\n",
        "    \n",
        "    #ys is an array, each element is computed as a polynomial function of\n",
        "    #the corresponding element of xs\n",
        "    ys = np.zeros_like(xs)\n",
        "    for p, c in enumerate(coef.flatten()):\n",
        "        ys += c*np.power(xs, p)\n",
        "    plt.plot(xs, ys, color=color)\n",
        "X0 = np.array([[2], [7], [9], [3], [10], [6], [1], [8]])\n",
        "print(X0)\n",
        "print()\n",
        "ones = np.ones_like(X0)\n",
        "# Nối 2 vector/ma trận theo chiều dọc\n",
        "X = np.concatenate((X0, ones), axis=1)\n",
        "print(X)\n",
        "print()\n",
        "Y = np.array([[13], [35], [41], [19], [45], [28], [10], [55]])\n",
        "print(Y)\n",
        "print()\n",
        "print('Ve do thi du lieu training X0 va Y: phai cung chieu ma tran')\n",
        "print()\n",
        "plt.scatter(X0,Y); plt.show()\n",
        "print('1. Dung phuong phap normal equation')\n",
        "#Tính trực tiếp bằng công thức: theta=(XtransposeX)-1*Xtranspose*y\n",
        "# API np.linalg.inv() dùng để tính ma trận nghịch đảo\n",
        "theta = np.linalg.inv(X.T.dot(X)).dot(X.T.dot(Y))\n",
        "print(theta)\n",
        "print('Vay ta co ham du doan predict hay con goi la ham hoi quy nhu sau:')\n",
        "print(f\"Y={theta[0]}X+{theta[1]}\")\n",
        "# See how it fits:\n",
        "plt.scatter(X0, Y)\n",
        "plot_polynomial(0, 10, theta)\n",
        "plt.show()\n",
        "print()\n",
        "print('2. Dung phuong phap Gradient Descent')\n",
        "theta_gd = np.random.normal(size=2).reshape([2,1])\n",
        "learning_rate = 0.02\n",
        "m=X.shape[0]\n",
        "grad_value=0\n",
        "def grad_cal(X, Y, theta_gd, m):\n",
        "    \"\"\"\n",
        "    X: X's value\n",
        "    Y: Y's value\n",
        "    theta_gd: theta's value\n",
        "    m: number of samples\n",
        "    \"\"\"    \n",
        "    g = 1/m * X.T.dot(X.dot(theta_gd) - Y)\n",
        "    return g.reshape(theta_gd.shape)\n",
        "\n",
        "def loss(X, Y, theta_gd, m):\n",
        "    \"\"\"\n",
        "    X: X's value\n",
        "    Y: Y's value\n",
        "    theta_gd: theta's value\n",
        "    m: number of samples\n",
        "    \"\"\"\n",
        "    return 1/(2*m) * np.sum((X.dot(theta_gd) - Y)**2)\n",
        "for i in range(10000):\n",
        "    grad_value = grad_cal(X, Y, theta_gd, m)\n",
        "    theta_gd = theta_gd - learning_rate*grad_value\n",
        "    print(loss(X, Y, theta_gd, m))\n",
        "print(theta_gd)\n",
        "# See how it fits:\n",
        "plt.scatter(X0, Y)\n",
        "plot_polynomial(0, 10, theta_gd)\n",
        "plt.show()"
      ],
      "execution_count": 0,
      "outputs": []
    }
  ]
}