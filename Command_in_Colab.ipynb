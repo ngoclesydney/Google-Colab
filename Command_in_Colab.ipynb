{
  "nbformat": 4,
  "nbformat_minor": 0,
  "metadata": {
    "colab": {
      "name": "Command in Colab.ipynb",
      "provenance": [],
      "collapsed_sections": [],
      "include_colab_link": true
    },
    "kernelspec": {
      "name": "python3",
      "display_name": "Python 3"
    },
    "accelerator": "GPU"
  },
  "cells": [
    {
      "cell_type": "markdown",
      "metadata": {
        "id": "view-in-github",
        "colab_type": "text"
      },
      "source": [
        "<a href=\"https://colab.research.google.com/github/ngoclesydney/Google-Colab/blob/master/Command_in_Colab.ipynb\" target=\"_parent\"><img src=\"https://colab.research.google.com/assets/colab-badge.svg\" alt=\"Open In Colab\"/></a>"
      ]
    },
    {
      "cell_type": "code",
      "metadata": {
        "id": "he6yjoD_9ZRe",
        "colab_type": "code",
        "colab": {
          "base_uri": "https://localhost:8080/",
          "height": 34
        },
        "outputId": "448e8092-e4ef-491c-805b-d8efee460908"
      },
      "source": [
        "!pwd\n"
      ],
      "execution_count": 3,
      "outputs": [
        {
          "output_type": "stream",
          "text": [
            "/content\n"
          ],
          "name": "stdout"
        }
      ]
    },
    {
      "cell_type": "code",
      "metadata": {
        "id": "PHc8GKrw_NNl",
        "colab_type": "code",
        "colab": {}
      },
      "source": [
        "from google.colab import drive\n",
        "drive.mount('/content/drive')"
      ],
      "execution_count": 0,
      "outputs": []
    },
    {
      "cell_type": "code",
      "metadata": {
        "id": "F2L87XAJ_VjC",
        "colab_type": "code",
        "colab": {
          "base_uri": "https://localhost:8080/",
          "height": 34
        },
        "outputId": "41218cd2-913d-40c5-f82f-36eef1941e97"
      },
      "source": [
        "!man !"
      ],
      "execution_count": 8,
      "outputs": [
        {
          "output_type": "stream",
          "text": [
            "No manual entry for !\n"
          ],
          "name": "stdout"
        }
      ]
    },
    {
      "cell_type": "code",
      "metadata": {
        "id": "NeBWZ5J6BJUA",
        "colab_type": "code",
        "colab": {
          "base_uri": "https://localhost:8080/",
          "height": 218
        },
        "outputId": "4c2963b3-7873-4a3f-8f41-2525a97f9472"
      },
      "source": [
        "help(print)"
      ],
      "execution_count": 2,
      "outputs": [
        {
          "output_type": "stream",
          "text": [
            "Help on built-in function print in module builtins:\n",
            "\n",
            "print(...)\n",
            "    print(value, ..., sep=' ', end='\\n', file=sys.stdout, flush=False)\n",
            "    \n",
            "    Prints the values to a stream, or to sys.stdout by default.\n",
            "    Optional keyword arguments:\n",
            "    file:  a file-like object (stream); defaults to the current sys.stdout.\n",
            "    sep:   string inserted between values, default a space.\n",
            "    end:   string appended after the last value, default a newline.\n",
            "    flush: whether to forcibly flush the stream.\n",
            "\n"
          ],
          "name": "stdout"
        }
      ]
    },
    {
      "cell_type": "code",
      "metadata": {
        "id": "gj2_I5ZDCI-e",
        "colab_type": "code",
        "colab": {
          "base_uri": "https://localhost:8080/",
          "height": 34
        },
        "outputId": "6c773241-ce3e-424a-8a66-3a5bdab5374e"
      },
      "source": [
        "!ls"
      ],
      "execution_count": 15,
      "outputs": [
        {
          "output_type": "stream",
          "text": [
            "own_data_cnn_implementation_keras  sample_data\n"
          ],
          "name": "stdout"
        }
      ]
    },
    {
      "cell_type": "code",
      "metadata": {
        "id": "J-p--Q3ESwXA",
        "colab_type": "code",
        "colab": {
          "base_uri": "https://localhost:8080/",
          "height": 34
        },
        "outputId": "f8d0e887-7fb1-4b92-dc11-e016aeee418c"
      },
      "source": [
        "cd content/sample_data/"
      ],
      "execution_count": 9,
      "outputs": [
        {
          "output_type": "stream",
          "text": [
            "/content/sample_data\n"
          ],
          "name": "stdout"
        }
      ]
    },
    {
      "cell_type": "code",
      "metadata": {
        "id": "CIhOA3xILQDJ",
        "colab_type": "code",
        "colab": {
          "base_uri": "https://localhost:8080/",
          "height": 34
        },
        "outputId": "d8f6f06d-abad-447c-ccbc-1c27ffa96104"
      },
      "source": [
        "cd sample_data"
      ],
      "execution_count": 5,
      "outputs": [
        {
          "output_type": "stream",
          "text": [
            "/content/sample_data\n"
          ],
          "name": "stdout"
        }
      ]
    },
    {
      "cell_type": "code",
      "metadata": {
        "id": "WJbXPsS8LyWK",
        "colab_type": "code",
        "colab": {
          "base_uri": "https://localhost:8080/",
          "height": 34
        },
        "outputId": "5ca985ff-cb60-48ac-8d2c-ce215a55fcba"
      },
      "source": [
        "cd /"
      ],
      "execution_count": 7,
      "outputs": [
        {
          "output_type": "stream",
          "text": [
            "/\n"
          ],
          "name": "stdout"
        }
      ]
    },
    {
      "cell_type": "code",
      "metadata": {
        "id": "kiMdc57eTix-",
        "colab_type": "code",
        "colab": {
          "base_uri": "https://localhost:8080/",
          "height": 84
        },
        "outputId": "2892b7b3-b927-4aed-a6a7-8e92d5018635"
      },
      "source": [
        "!git clone https://github.com/anujshah1003/own_data_cnn_implementation_keras.git"
      ],
      "execution_count": 14,
      "outputs": [
        {
          "output_type": "stream",
          "text": [
            "Cloning into 'own_data_cnn_implementation_keras'...\n",
            "remote: Enumerating objects: 51, done.\u001b[K\n",
            "remote: Total 51 (delta 0), reused 0 (delta 0), pack-reused 51\u001b[K\n",
            "Unpacking objects: 100% (51/51), done.\n"
          ],
          "name": "stdout"
        }
      ]
    },
    {
      "cell_type": "code",
      "metadata": {
        "id": "KP6snldLUkNI",
        "colab_type": "code",
        "colab": {
          "base_uri": "https://localhost:8080/",
          "height": 34
        },
        "outputId": "4bba28f6-c543-446a-9e85-69b6567bce00"
      },
      "source": [
        "cd .."
      ],
      "execution_count": 13,
      "outputs": [
        {
          "output_type": "stream",
          "text": [
            "/content\n"
          ],
          "name": "stdout"
        }
      ]
    },
    {
      "cell_type": "code",
      "metadata": {
        "id": "mTFtAocrVYJJ",
        "colab_type": "code",
        "colab": {
          "base_uri": "https://localhost:8080/",
          "height": 34
        },
        "outputId": "994cd084-ab52-442c-9be9-ec585592d498"
      },
      "source": [
        "cd sample_data/own_data_cnn_implementation_keras/"
      ],
      "execution_count": 17,
      "outputs": [
        {
          "output_type": "stream",
          "text": [
            "/content/sample_data/own_data_cnn_implementation_keras\n"
          ],
          "name": "stdout"
        }
      ]
    },
    {
      "cell_type": "code",
      "metadata": {
        "id": "pMQeA5ngVpd9",
        "colab_type": "code",
        "colab": {}
      },
      "source": [
        "!rm README.md"
      ],
      "execution_count": 0,
      "outputs": []
    },
    {
      "cell_type": "code",
      "metadata": {
        "id": "TZltGYocVy8s",
        "colab_type": "code",
        "colab": {
          "base_uri": "https://localhost:8080/",
          "height": 34
        },
        "outputId": "74d3781b-808e-4c5d-8bdc-3ec614855ad2"
      },
      "source": [
        "!ls"
      ],
      "execution_count": 19,
      "outputs": [
        {
          "output_type": "stream",
          "text": [
            "_config.yml  custom_data_cnn.py  data.zip  updated_custom_data_cnn.py\n"
          ],
          "name": "stdout"
        }
      ]
    },
    {
      "cell_type": "code",
      "metadata": {
        "id": "-caNmvbyV77d",
        "colab_type": "code",
        "colab": {
          "base_uri": "https://localhost:8080/",
          "height": 34
        },
        "outputId": "3fd0c9b8-1050-43f1-c65c-c04b152a0213"
      },
      "source": [
        "cd .."
      ],
      "execution_count": 21,
      "outputs": [
        {
          "output_type": "stream",
          "text": [
            "/content/sample_data\n"
          ],
          "name": "stdout"
        }
      ]
    },
    {
      "cell_type": "code",
      "metadata": {
        "id": "FpmJYdywWMdG",
        "colab_type": "code",
        "colab": {}
      },
      "source": [
        "!rm -rf own_data_cnn_implementation_keras"
      ],
      "execution_count": 0,
      "outputs": []
    },
    {
      "cell_type": "code",
      "metadata": {
        "id": "xbXMu4T0kCrh",
        "colab_type": "code",
        "colab": {
          "base_uri": "https://localhost:8080/",
          "height": 34
        },
        "outputId": "8f27a8f3-3478-439f-f0cc-cbf940b957fb"
      },
      "source": [
        "!pwd"
      ],
      "execution_count": 23,
      "outputs": [
        {
          "output_type": "stream",
          "text": [
            "/content/sample_data\n"
          ],
          "name": "stdout"
        }
      ]
    },
    {
      "cell_type": "code",
      "metadata": {
        "id": "9kxxYmtSkHMZ",
        "colab_type": "code",
        "colab": {
          "base_uri": "https://localhost:8080/",
          "height": 34
        },
        "outputId": "24d52552-2f52-4b12-88b4-7841960b31be"
      },
      "source": [
        "cd /content/own_data_cnn_implementation_keras/"
      ],
      "execution_count": 24,
      "outputs": [
        {
          "output_type": "stream",
          "text": [
            "/content/own_data_cnn_implementation_keras\n"
          ],
          "name": "stdout"
        }
      ]
    },
    {
      "cell_type": "code",
      "metadata": {
        "id": "cbppxS_ykY5v",
        "colab_type": "code",
        "colab": {
          "base_uri": "https://localhost:8080/",
          "height": 50
        },
        "outputId": "69101bbc-6347-41c5-9bc6-8f138e154ac1"
      },
      "source": [
        "!ls"
      ],
      "execution_count": 25,
      "outputs": [
        {
          "output_type": "stream",
          "text": [
            "_config.yml\t    data.zip   updated_custom_data_cnn.py\n",
            "custom_data_cnn.py  README.md\n"
          ],
          "name": "stdout"
        }
      ]
    },
    {
      "cell_type": "code",
      "metadata": {
        "id": "IiVbcgpzkenq",
        "colab_type": "code",
        "colab": {}
      },
      "source": [
        "!rm -rf _config.yml updated_custom_data_cnn.py custom_data_cnn.py README.md"
      ],
      "execution_count": 0,
      "outputs": []
    },
    {
      "cell_type": "code",
      "metadata": {
        "id": "IyqRDLsdksDN",
        "colab_type": "code",
        "colab": {
          "base_uri": "https://localhost:8080/",
          "height": 34
        },
        "outputId": "756bb806-8253-401f-8d07-d2f8fa03cdce"
      },
      "source": [
        "!ls"
      ],
      "execution_count": 27,
      "outputs": [
        {
          "output_type": "stream",
          "text": [
            "data.zip\n"
          ],
          "name": "stdout"
        }
      ]
    },
    {
      "cell_type": "code",
      "metadata": {
        "id": "H9DqRYymkvB0",
        "colab_type": "code",
        "colab": {
          "base_uri": "https://localhost:8080/",
          "height": 50
        },
        "outputId": "e62c33e3-f5a5-42bc-dc37-3e77febd59de"
      },
      "source": [
        "from zipfile import ZipFile\n",
        "file_name='data.zip'\n",
        "with ZipFile(file_name,'r') as zip:\n",
        "  print('Extracting of the file now...')\n",
        "  zip.extractall()\n",
        "  print('Done')"
      ],
      "execution_count": 29,
      "outputs": [
        {
          "output_type": "stream",
          "text": [
            "Extracting of the file now...\n",
            "Done\n"
          ],
          "name": "stdout"
        }
      ]
    },
    {
      "cell_type": "code",
      "metadata": {
        "id": "U1LtIIXVlrGf",
        "colab_type": "code",
        "colab": {
          "base_uri": "https://localhost:8080/",
          "height": 34
        },
        "outputId": "008c0441-b015-4480-a61e-6e34a20f9de3"
      },
      "source": [
        "!ls"
      ],
      "execution_count": 30,
      "outputs": [
        {
          "output_type": "stream",
          "text": [
            "data  data.zip\n"
          ],
          "name": "stdout"
        }
      ]
    },
    {
      "cell_type": "code",
      "metadata": {
        "id": "i0ea3xypltsc",
        "colab_type": "code",
        "colab": {
          "base_uri": "https://localhost:8080/",
          "height": 34
        },
        "outputId": "cc701ff5-1907-4b0f-8aea-2d382464e9d5"
      },
      "source": [
        "cd data"
      ],
      "execution_count": 31,
      "outputs": [
        {
          "output_type": "stream",
          "text": [
            "/content/own_data_cnn_implementation_keras/data\n"
          ],
          "name": "stdout"
        }
      ]
    },
    {
      "cell_type": "code",
      "metadata": {
        "id": "pOIuHKTxlwtT",
        "colab_type": "code",
        "colab": {
          "base_uri": "https://localhost:8080/",
          "height": 34
        },
        "outputId": "2c4c77cf-d9d1-4c22-fa56-53b199798f8c"
      },
      "source": [
        "!ls"
      ],
      "execution_count": 32,
      "outputs": [
        {
          "output_type": "stream",
          "text": [
            "cats  dogs  horses  humans\n"
          ],
          "name": "stdout"
        }
      ]
    },
    {
      "cell_type": "code",
      "metadata": {
        "id": "Yibxzd6NlzLs",
        "colab_type": "code",
        "colab": {
          "base_uri": "https://localhost:8080/",
          "height": 34
        },
        "outputId": "58d9864b-3c67-4e91-f7b1-f9d21b58d08f"
      },
      "source": [
        "cd cats/"
      ],
      "execution_count": 34,
      "outputs": [
        {
          "output_type": "stream",
          "text": [
            "/content/own_data_cnn_implementation_keras/data/cats\n"
          ],
          "name": "stdout"
        }
      ]
    },
    {
      "cell_type": "code",
      "metadata": {
        "id": "661Dc4T9l8iN",
        "colab_type": "code",
        "colab": {
          "base_uri": "https://localhost:8080/",
          "height": 588
        },
        "outputId": "8e5ff5a5-68a6-488c-f6bd-8dd054b8a5e9"
      },
      "source": [
        "!ls"
      ],
      "execution_count": 35,
      "outputs": [
        {
          "output_type": "stream",
          "text": [
            "cat.100.jpg  cat.131.jpg  cat.162.jpg  cat.193.jpg  cat.40.jpg\tcat.71.jpg\n",
            "cat.101.jpg  cat.132.jpg  cat.163.jpg  cat.194.jpg  cat.41.jpg\tcat.72.jpg\n",
            "cat.102.jpg  cat.133.jpg  cat.164.jpg  cat.195.jpg  cat.42.jpg\tcat.73.jpg\n",
            "cat.103.jpg  cat.134.jpg  cat.165.jpg  cat.196.jpg  cat.43.jpg\tcat.74.jpg\n",
            "cat.104.jpg  cat.135.jpg  cat.166.jpg  cat.197.jpg  cat.44.jpg\tcat.75.jpg\n",
            "cat.105.jpg  cat.136.jpg  cat.167.jpg  cat.198.jpg  cat.45.jpg\tcat.76.jpg\n",
            "cat.106.jpg  cat.137.jpg  cat.168.jpg  cat.199.jpg  cat.46.jpg\tcat.77.jpg\n",
            "cat.107.jpg  cat.138.jpg  cat.169.jpg  cat.19.jpg   cat.47.jpg\tcat.78.jpg\n",
            "cat.108.jpg  cat.139.jpg  cat.16.jpg   cat.1.jpg    cat.48.jpg\tcat.79.jpg\n",
            "cat.109.jpg  cat.13.jpg   cat.170.jpg  cat.200.jpg  cat.49.jpg\tcat.7.jpg\n",
            "cat.10.jpg   cat.140.jpg  cat.171.jpg  cat.201.jpg  cat.4.jpg\tcat.80.jpg\n",
            "cat.110.jpg  cat.141.jpg  cat.172.jpg  cat.202.jpg  cat.50.jpg\tcat.81.jpg\n",
            "cat.111.jpg  cat.142.jpg  cat.173.jpg  cat.20.jpg   cat.51.jpg\tcat.82.jpg\n",
            "cat.112.jpg  cat.143.jpg  cat.174.jpg  cat.21.jpg   cat.52.jpg\tcat.83.jpg\n",
            "cat.113.jpg  cat.144.jpg  cat.175.jpg  cat.22.jpg   cat.53.jpg\tcat.84.jpg\n",
            "cat.114.jpg  cat.145.jpg  cat.176.jpg  cat.23.jpg   cat.54.jpg\tcat.85.jpg\n",
            "cat.115.jpg  cat.146.jpg  cat.177.jpg  cat.24.jpg   cat.55.jpg\tcat.86.jpg\n",
            "cat.116.jpg  cat.147.jpg  cat.178.jpg  cat.25.jpg   cat.56.jpg\tcat.87.jpg\n",
            "cat.117.jpg  cat.148.jpg  cat.179.jpg  cat.26.jpg   cat.57.jpg\tcat.88.jpg\n",
            "cat.118.jpg  cat.149.jpg  cat.17.jpg   cat.27.jpg   cat.58.jpg\tcat.89.jpg\n",
            "cat.119.jpg  cat.14.jpg   cat.180.jpg  cat.28.jpg   cat.59.jpg\tcat.8.jpg\n",
            "cat.11.jpg   cat.150.jpg  cat.181.jpg  cat.29.jpg   cat.5.jpg\tcat.90.jpg\n",
            "cat.120.jpg  cat.151.jpg  cat.182.jpg  cat.2.jpg    cat.60.jpg\tcat.91.jpg\n",
            "cat.121.jpg  cat.152.jpg  cat.183.jpg  cat.30.jpg   cat.61.jpg\tcat.92.jpg\n",
            "cat.122.jpg  cat.153.jpg  cat.184.jpg  cat.31.jpg   cat.62.jpg\tcat.93.jpg\n",
            "cat.123.jpg  cat.154.jpg  cat.185.jpg  cat.32.jpg   cat.63.jpg\tcat.94.jpg\n",
            "cat.124.jpg  cat.155.jpg  cat.186.jpg  cat.33.jpg   cat.64.jpg\tcat.95.jpg\n",
            "cat.125.jpg  cat.156.jpg  cat.187.jpg  cat.34.jpg   cat.65.jpg\tcat.96.jpg\n",
            "cat.126.jpg  cat.157.jpg  cat.188.jpg  cat.35.jpg   cat.66.jpg\tcat.97.jpg\n",
            "cat.127.jpg  cat.158.jpg  cat.189.jpg  cat.36.jpg   cat.67.jpg\tcat.98.jpg\n",
            "cat.128.jpg  cat.159.jpg  cat.18.jpg   cat.37.jpg   cat.68.jpg\tcat.99.jpg\n",
            "cat.129.jpg  cat.15.jpg   cat.190.jpg  cat.38.jpg   cat.69.jpg\tcat.9.jpg\n",
            "cat.12.jpg   cat.160.jpg  cat.191.jpg  cat.39.jpg   cat.6.jpg\n",
            "cat.130.jpg  cat.161.jpg  cat.192.jpg  cat.3.jpg    cat.70.jpg\n"
          ],
          "name": "stdout"
        }
      ]
    },
    {
      "cell_type": "code",
      "metadata": {
        "id": "3B0LStG1rlNz",
        "colab_type": "code",
        "colab": {
          "base_uri": "https://localhost:8080/",
          "height": 34
        },
        "outputId": "2aa08049-4027-497a-ba94-194eaa5a328a"
      },
      "source": [
        "!ls"
      ],
      "execution_count": 1,
      "outputs": [
        {
          "output_type": "stream",
          "text": [
            "sample_data\n"
          ],
          "name": "stdout"
        }
      ]
    }
  ]
}