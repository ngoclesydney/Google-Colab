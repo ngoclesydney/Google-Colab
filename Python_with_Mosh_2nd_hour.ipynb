{
  "nbformat": 4,
  "nbformat_minor": 0,
  "metadata": {
    "colab": {
      "name": "Python with Mosh 2nd hour.ipynb",
      "provenance": [],
      "collapsed_sections": [],
      "include_colab_link": true
    },
    "kernelspec": {
      "name": "python3",
      "display_name": "Python 3"
    }
  },
  "cells": [
    {
      "cell_type": "markdown",
      "metadata": {
        "id": "view-in-github",
        "colab_type": "text"
      },
      "source": [
        "<a href=\"https://colab.research.google.com/github/ngoclesydney/Google-Colab/blob/master/Python_with_Mosh_2nd_hour.ipynb\" target=\"_parent\"><img src=\"https://colab.research.google.com/assets/colab-badge.svg\" alt=\"Open In Colab\"/></a>"
      ]
    },
    {
      "cell_type": "markdown",
      "metadata": {
        "id": "1nqBqMKQP22F",
        "colab_type": "text"
      },
      "source": [
        "# 6 January 2020: Second hour with Python from Mosh\n",
        "## Logical Operator\n",
        "When we have more conditions in if statement\n",
        "\n",
        "For example with two conditions is follows\n",
        "\n",
        "if an applicant has **high income** AND **good credit**\n",
        "\n",
        "> Eligible for loan\n",
        "\n",
        "AND: both true\n",
        "\n",
        "OR: at least one true\n",
        "\n",
        "NOT: Change logical\n",
        "\n",
        "Like example \n",
        "\n",
        "If an applicant has good credit AND doesn't have a criminal record\n"
      ]
    },
    {
      "cell_type": "code",
      "metadata": {
        "id": "SgbrmoiBPX1m",
        "colab_type": "code",
        "colab": {
          "base_uri": "https://localhost:8080/",
          "height": 34
        },
        "outputId": "0c8d63c6-3fd8-4847-824a-908858a15b8b"
      },
      "source": [
        "has_high_income = True\n",
        "has_good_credit = True\n",
        "# Both conditions are True then print out\n",
        "if has_high_income and has_good_credit:\n",
        "  print('Eligible for loan')\n"
      ],
      "execution_count": 1,
      "outputs": [
        {
          "output_type": "stream",
          "text": [
            "Eligible for loan\n"
          ],
          "name": "stdout"
        }
      ]
    },
    {
      "cell_type": "code",
      "metadata": {
        "id": "W01EBNsZVeSK",
        "colab_type": "code",
        "colab": {}
      },
      "source": [
        "has_high_income = False\n",
        "has_good_credit = True\n",
        "# If one condition is False then disappear\n",
        "if has_high_income and has_good_credit:\n",
        "  print('Eligible for loan')"
      ],
      "execution_count": 0,
      "outputs": []
    },
    {
      "cell_type": "code",
      "metadata": {
        "id": "PEHz0Fg1Vwbu",
        "colab_type": "code",
        "colab": {
          "base_uri": "https://localhost:8080/",
          "height": 34
        },
        "outputId": "13eaac6c-9e85-42c6-83d9-67aeb7366ef8"
      },
      "source": [
        "# with OR \n",
        "has_high_income = False\n",
        "has_good_credit = True\n",
        "# OR\n",
        "if has_high_income or has_good_credit:\n",
        "  print('Eligible for loan')\n",
        "# in case both false then no print"
      ],
      "execution_count": 3,
      "outputs": [
        {
          "output_type": "stream",
          "text": [
            "Eligible for loan\n"
          ],
          "name": "stdout"
        }
      ]
    },
    {
      "cell_type": "code",
      "metadata": {
        "id": "XahkfROgWva6",
        "colab_type": "code",
        "colab": {
          "base_uri": "https://localhost:8080/",
          "height": 34
        },
        "outputId": "9434b120-1997-45f9-b83a-86fcacba567b"
      },
      "source": [
        "has_high_income = True\n",
        "has_criminal_record = False\n",
        "if has_high_income and not has_criminal_record:\n",
        "  print('Eligible for loan')"
      ],
      "execution_count": 4,
      "outputs": [
        {
          "output_type": "stream",
          "text": [
            "Eligible for loan\n"
          ],
          "name": "stdout"
        }
      ]
    },
    {
      "cell_type": "markdown",
      "metadata": {
        "id": "ezGj9sURXNIV",
        "colab_type": "text"
      },
      "source": [
        "## Comparison Operators\n",
        "This will compare with specific conditions\n",
        "\n",
        "For example\n",
        "\n",
        "if temperature **is greater than 30**\n",
        "\n",
        "> it is a hot day\n",
        "\n",
        "otherwise if it **is less than 10**\n",
        "\n",
        "> it is a cold day\n",
        "\n",
        "**otherwise**\n",
        "\n",
        "> it is neither hot nor cold\n"
      ]
    },
    {
      "cell_type": "code",
      "metadata": {
        "id": "sH2g6FyvXSKX",
        "colab_type": "code",
        "colab": {
          "base_uri": "https://localhost:8080/",
          "height": 34
        },
        "outputId": "02aa02ce-4d80-45c7-eb89-42d83908a2d6"
      },
      "source": [
        "temperature = 32\n",
        "# In Python to compare we have greater, equal, and not equal by using ><, ==, !=\n",
        "if temperature > 30:\n",
        "  print('it is a hot day')\n",
        "else:\n",
        "  print('it is not a hot day')"
      ],
      "execution_count": 6,
      "outputs": [
        {
          "output_type": "stream",
          "text": [
            "it is a hot day\n"
          ],
          "name": "stdout"
        }
      ]
    },
    {
      "cell_type": "markdown",
      "metadata": {
        "id": "pJm3N1hwZKn7",
        "colab_type": "text"
      },
      "source": [
        "### Problem\n",
        "if the password is **less than 5 characters long** \n",
        "\n",
        "> the password must be at least 5 characters\n",
        "\n",
        "otherwise if it is **more than 8 characters long**\n",
        "\n",
        "> the password must be a maximum of 8 characters\n",
        "\n",
        "**otherwise**\n",
        "\n",
        "> the password looks good"
      ]
    },
    {
      "cell_type": "code",
      "metadata": {
        "id": "lHWJEQQcbh1Y",
        "colab_type": "code",
        "colab": {
          "base_uri": "https://localhost:8080/",
          "height": 67
        },
        "outputId": "54911047-b69b-4fd6-b0be-6199962a934b"
      },
      "source": [
        "passW = input('Please type the password:')\n",
        "lenPass=len(passW)\n",
        "print(f\"The number of characters in the password: {lenPass}\")\n",
        "if lenPass < 5:\n",
        "  print('The password must be at least 5 characters')\n",
        "elif lenPass > 8:\n",
        "  print('The password must be a maximum of 8 characters') \n",
        "else:\n",
        "  print('The password looks cool')\n",
        "  "
      ],
      "execution_count": 17,
      "outputs": [
        {
          "output_type": "stream",
          "text": [
            "Please type the password:afbdjfdjlhf\n",
            "The number of characters in the password: 11\n",
            "The password must be a maximum of 8 characters\n"
          ],
          "name": "stdout"
        }
      ]
    },
    {
      "cell_type": "markdown",
      "metadata": {
        "id": "gzsNRrXYfieK",
        "colab_type": "text"
      },
      "source": [
        "## Weight Converter\n",
        "convert lb to kg and inverse"
      ]
    },
    {
      "cell_type": "code",
      "metadata": {
        "id": "BmhOGWNqfsXv",
        "colab_type": "code",
        "colab": {
          "base_uri": "https://localhost:8080/",
          "height": 67
        },
        "outputId": "d3b77b99-3b0a-40f0-82c1-497c09e20ef7"
      },
      "source": [
        "weight = int(input('Weight: '))\n",
        "unit = input('(L)bs or (K)g: ')\n",
        "if unit.upper() == \"L\":\n",
        "  converted = weight * 0.45\n",
        "  print(f\"You are {converted} killos\")\n",
        "else: \n",
        "  converted = weight / 0.45\n",
        "  print(f\"You are {converted} pounds\")"
      ],
      "execution_count": 21,
      "outputs": [
        {
          "output_type": "stream",
          "text": [
            "Weight: 54\n",
            "(L)bs or (K)g: k\n",
            "You are 120.0 pounds\n"
          ],
          "name": "stdout"
        }
      ]
    },
    {
      "cell_type": "markdown",
      "metadata": {
        "id": "-5lWimUbhePn",
        "colab_type": "text"
      },
      "source": [
        "## While Loops"
      ]
    },
    {
      "cell_type": "code",
      "metadata": {
        "id": "Gh75BopnhhHL",
        "colab_type": "code",
        "colab": {
          "base_uri": "https://localhost:8080/",
          "height": 118
        },
        "outputId": "8f40f2a2-c294-44b5-904f-be411578fb44"
      },
      "source": [
        "i = 1\n",
        "while i <= 5:\n",
        "  print(i)\n",
        "  i += 1\n",
        "  # i = i + 1\n",
        "print(\"Done\")"
      ],
      "execution_count": 23,
      "outputs": [
        {
          "output_type": "stream",
          "text": [
            "1\n",
            "2\n",
            "3\n",
            "4\n",
            "5\n",
            "Done\n"
          ],
          "name": "stdout"
        }
      ]
    },
    {
      "cell_type": "code",
      "metadata": {
        "id": "cyLsc1G-ibgG",
        "colab_type": "code",
        "colab": {
          "base_uri": "https://localhost:8080/",
          "height": 118
        },
        "outputId": "2a63218b-b427-4285-d45b-7d9687877495"
      },
      "source": [
        "i = 1\n",
        "while i <= 5:\n",
        "  print(\"*\" * i)\n",
        "  i += 1\n",
        "  # i = i + 1\n",
        "print(\"Done\")"
      ],
      "execution_count": 24,
      "outputs": [
        {
          "output_type": "stream",
          "text": [
            "*\n",
            "**\n",
            "***\n",
            "****\n",
            "*****\n",
            "Done\n"
          ],
          "name": "stdout"
        }
      ]
    },
    {
      "cell_type": "markdown",
      "metadata": {
        "id": "cVxZcxvlipF3",
        "colab_type": "text"
      },
      "source": [
        "### Guessing Game"
      ]
    },
    {
      "cell_type": "code",
      "metadata": {
        "id": "Mdmybnvuiq8N",
        "colab_type": "code",
        "colab": {
          "base_uri": "https://localhost:8080/",
          "height": 84
        },
        "outputId": "beaa8722-2ee0-494c-8639-db0b80a99a3d"
      },
      "source": [
        "secret_number = 9\n",
        "guess_count = 0\n",
        "guess_limit = 3\n",
        "while guess_count < guess_limit:\n",
        "  guess = int(input(\"Guess: \"))\n",
        "  guess_count += 1\n",
        "  if guess == secret_number:\n",
        "    print('You won!')\n",
        "    break\n",
        "else:\n",
        "  print('Sorry, you failed')"
      ],
      "execution_count": 29,
      "outputs": [
        {
          "output_type": "stream",
          "text": [
            "Guess: 1\n",
            "Guess: 4\n",
            "Guess: 9\n",
            "You won!\n"
          ],
          "name": "stdout"
        }
      ]
    },
    {
      "cell_type": "markdown",
      "metadata": {
        "id": "yEpWUCKnlNyr",
        "colab_type": "text"
      },
      "source": [
        "### Car Game\n",
        "This is the car game that is popular for programming almost all game.\n",
        "\n",
        "So we have three states for the car: start the car; stop the car; and quit the game.\n",
        "\n",
        "We will use the while True: to make the game working untill we have the condition to quit the game is typing 'quit'\n",
        "\n",
        "when we type start the the car started\n",
        "\n",
        "but if we type start again, we will be warned that the car started\n",
        "\n",
        "typing stop the the car stopped. but if we type 'stop' then warning the car stopped already. Now we can start the car again. or we can quit.\n",
        "\n"
      ]
    },
    {
      "cell_type": "code",
      "metadata": {
        "id": "WbTUYfCblPiV",
        "colab_type": "code",
        "colab": {
          "base_uri": "https://localhost:8080/",
          "height": 386
        },
        "outputId": "0e7d6dc5-4a01-4cc9-d1c0-d6d08db65f1d"
      },
      "source": [
        "command = \"\"\n",
        "started = False\n",
        "while True:\n",
        "  command = input(\"> \").lower()\n",
        "  if command == \"start\":\n",
        "    # avoiding the car start twice warning that car started already\n",
        "    if started:\n",
        "      print('The car is started already')\n",
        "    else:\n",
        "      started = True\n",
        "      print(\"The car started...\")\n",
        "  elif command == \"stop\":\n",
        "    # avoiding the car stop twice warning that car stopped already\n",
        "    if not started:\n",
        "      print(\"The car is already stopped!\")\n",
        "    else: \n",
        "      started = False\n",
        "      print(\"The car stopped.\")\n",
        "  elif command == \"help\":\n",
        "    # guidance to the game\n",
        "    print(\"\"\"\n",
        "start - to start the car\n",
        "stop - to stop the car\n",
        "quit - to quit\n",
        "    \"\"\")\n",
        "  elif command == \"quit\":\n",
        "    print(\"Good bye, see you again!\")\n",
        "    break # This is the condition that the game is quited\n",
        "  else:\n",
        "    print(\"Sorry, I don't understand that please type 'help' to know more\")"
      ],
      "execution_count": 33,
      "outputs": [
        {
          "output_type": "stream",
          "text": [
            "> hi\n",
            "Sorry, I don't understand that please type 'help' to know more\n",
            "> help\n",
            "\n",
            "start - to start the car\n",
            "stop - to stop the car\n",
            "quit - to quit\n",
            "    \n",
            "> start\n",
            "The car started...\n",
            "> stop\n",
            "The car stopped.\n",
            "> start\n",
            "The car started...\n",
            "> start\n",
            "The car is started already\n",
            "> stop\n",
            "The car stopped.\n",
            "> stop\n",
            "The car is already stopped!\n",
            "> quit\n",
            "Good bye, see you again!\n"
          ],
          "name": "stdout"
        }
      ]
    },
    {
      "cell_type": "markdown",
      "metadata": {
        "id": "JJ3uiINU17dE",
        "colab_type": "text"
      },
      "source": [
        "## For Loops\n"
      ]
    },
    {
      "cell_type": "markdown",
      "metadata": {
        "id": "tx_XqL6T3eXH",
        "colab_type": "text"
      },
      "source": [
        "for i in \"Python\"\n",
        "  "
      ]
    },
    {
      "cell_type": "markdown",
      "metadata": {
        "id": "uRa1HNUj3jGu",
        "colab_type": "text"
      },
      "source": [
        ""
      ]
    },
    {
      "cell_type": "code",
      "metadata": {
        "id": "bpGiSexl3lNm",
        "colab_type": "code",
        "colab": {
          "base_uri": "https://localhost:8080/",
          "height": 269
        },
        "outputId": "eddf6e44-5349-46f2-b316-8b2f2eb5b019"
      },
      "source": [
        "for i in \"Python\":\n",
        "  print(i)\n",
        "for j in [1,2,3,4]:\n",
        "  print(j)\n",
        "for k in range(3):\n",
        "  print(k)\n",
        "for l in range(3,5):\n",
        "  print(l)\n"
      ],
      "execution_count": 38,
      "outputs": [
        {
          "output_type": "stream",
          "text": [
            "P\n",
            "y\n",
            "t\n",
            "h\n",
            "o\n",
            "n\n",
            "1\n",
            "2\n",
            "3\n",
            "4\n",
            "0\n",
            "1\n",
            "2\n",
            "3\n",
            "4\n"
          ],
          "name": "stdout"
        }
      ]
    },
    {
      "cell_type": "code",
      "metadata": {
        "id": "zcWxlpms4J-W",
        "colab_type": "code",
        "colab": {
          "base_uri": "https://localhost:8080/",
          "height": 34
        },
        "outputId": "32da0e99-7d93-485b-db21-3fd34b09ecdc"
      },
      "source": [
        "prices = [10, 20, 30]\n",
        "total = 0\n",
        "for item in prices:\n",
        "  total += item\n",
        "print(f\"total is: {total}\")"
      ],
      "execution_count": 40,
      "outputs": [
        {
          "output_type": "stream",
          "text": [
            "total is: 60\n"
          ],
          "name": "stdout"
        }
      ]
    },
    {
      "cell_type": "markdown",
      "metadata": {
        "id": "fn2Obb_u4iZt",
        "colab_type": "text"
      },
      "source": [
        "## Nested Loops"
      ]
    },
    {
      "cell_type": "code",
      "metadata": {
        "id": "HU6Gt3Q34lfY",
        "colab_type": "code",
        "colab": {
          "base_uri": "https://localhost:8080/",
          "height": 218
        },
        "outputId": "560ca272-4f79-4e44-ab23-083c4695e27d"
      },
      "source": [
        "for x in range(3):\n",
        "  for y in range(4):\n",
        "    print(f\"({x}, {y})\")\n"
      ],
      "execution_count": 41,
      "outputs": [
        {
          "output_type": "stream",
          "text": [
            "(0, 0)\n",
            "(0, 1)\n",
            "(0, 2)\n",
            "(0, 3)\n",
            "(1, 0)\n",
            "(1, 1)\n",
            "(1, 2)\n",
            "(1, 3)\n",
            "(2, 0)\n",
            "(2, 1)\n",
            "(2, 2)\n",
            "(2, 3)\n"
          ],
          "name": "stdout"
        }
      ]
    },
    {
      "cell_type": "code",
      "metadata": {
        "id": "OQQoELZ05xgA",
        "colab_type": "code",
        "colab": {
          "base_uri": "https://localhost:8080/",
          "height": 67
        },
        "outputId": "c81e5d44-26b8-41fc-a5d2-d4f401e992fa"
      },
      "source": [
        "numbers = [2, 5, 1]\n",
        "for item in numbers:\n",
        "  print(\"*\" * item )"
      ],
      "execution_count": 44,
      "outputs": [
        {
          "output_type": "stream",
          "text": [
            "**\n",
            "*****\n",
            "*\n"
          ],
          "name": "stdout"
        }
      ]
    },
    {
      "cell_type": "code",
      "metadata": {
        "id": "wUILVBHF55OM",
        "colab_type": "code",
        "colab": {
          "base_uri": "https://localhost:8080/",
          "height": 67
        },
        "outputId": "8c1b458a-1ced-4e26-eeef-d6ba92be1030"
      },
      "source": [
        "# It has the same result but it looks quite difficult\n",
        "numbers = [2, 5, 1]\n",
        "for item in numbers:\n",
        "  output = ''\n",
        "  for count in range(item):\n",
        "    output += '*'\n",
        "  print(output)\n",
        "\n"
      ],
      "execution_count": 45,
      "outputs": [
        {
          "output_type": "stream",
          "text": [
            "**\n",
            "*****\n",
            "*\n"
          ],
          "name": "stdout"
        }
      ]
    },
    {
      "cell_type": "markdown",
      "metadata": {
        "id": "QXpTR-zU7L4t",
        "colab_type": "text"
      },
      "source": [
        "## Lists\n"
      ]
    },
    {
      "cell_type": "code",
      "metadata": {
        "id": "pjmfrhjy7OLm",
        "colab_type": "code",
        "colab": {
          "base_uri": "https://localhost:8080/",
          "height": 84
        },
        "outputId": "43ca582f-5eb3-408d-abae-578c1c55a0b2"
      },
      "source": [
        "names = ['John', 'Bob', 'La', 'Lu']\n",
        "print(names)\n",
        "print(names[0])\n",
        "print(names[-1])\n",
        "print(names[2:])"
      ],
      "execution_count": 49,
      "outputs": [
        {
          "output_type": "stream",
          "text": [
            "['John', 'Bob', 'La', 'Lu']\n",
            "John\n",
            "Lu\n",
            "['La', 'Lu']\n"
          ],
          "name": "stdout"
        }
      ]
    },
    {
      "cell_type": "code",
      "metadata": {
        "id": "Fyo3lL6d79ts",
        "colab_type": "code",
        "colab": {
          "base_uri": "https://localhost:8080/",
          "height": 34
        },
        "outputId": "3e1d8b13-bfd5-46ca-e1c0-47e8847cb988"
      },
      "source": [
        "# find the largest number in the list\n",
        "numbers = [1, 2, 4, 5, 7, 12, 2, 4]\n",
        "max = numbers[0]\n",
        "for number in numbers:\n",
        "  if number > max:\n",
        "    max = number # If using max == number it is wrong result == using in the condition    \n",
        "print(f\"The maximum number is: {max}\")"
      ],
      "execution_count": 52,
      "outputs": [
        {
          "output_type": "stream",
          "text": [
            "The maximum number is: 12\n"
          ],
          "name": "stdout"
        }
      ]
    }
  ]
}