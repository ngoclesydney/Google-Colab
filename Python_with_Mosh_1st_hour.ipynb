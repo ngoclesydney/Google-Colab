{
  "nbformat": 4,
  "nbformat_minor": 0,
  "metadata": {
    "colab": {
      "name": "Python with Mosh 1st hour.ipynb",
      "provenance": [],
      "collapsed_sections": [],
      "include_colab_link": true
    },
    "kernelspec": {
      "name": "python3",
      "display_name": "Python 3"
    }
  },
  "cells": [
    {
      "cell_type": "markdown",
      "metadata": {
        "id": "view-in-github",
        "colab_type": "text"
      },
      "source": [
        "<a href=\"https://colab.research.google.com/github/ngoclesydney/Google-Colab/blob/master/Python_with_Mosh_1st_hour.ipynb\" target=\"_parent\"><img src=\"https://colab.research.google.com/assets/colab-badge.svg\" alt=\"Open In Colab\"/></a>"
      ]
    },
    {
      "cell_type": "markdown",
      "metadata": {
        "id": "w401T71crouI",
        "colab_type": "text"
      },
      "source": [
        "# Study python with Mosh #\n",
        "The link from youtube is [here](https://www.youtube.com/watch?v=_uQrJ0TkZlc&list=PLAibVEuGZHnKOenFaYDg768gAZLDE5JFk)\n",
        "The clip lasts about more than 6 hours. However, I did not feel wasting of my time.\n"
      ]
    },
    {
      "cell_type": "code",
      "metadata": {
        "id": "2TE7HvKerTQh",
        "colab_type": "code",
        "outputId": "71e45acc-be59-47c4-f17f-04b147a8b7f9",
        "colab": {
          "base_uri": "https://localhost:8080/",
          "height": 101
        }
      },
      "source": [
        "course='''Hi every one,\n",
        "We will start the project now.\n",
        "Thank you,\n",
        "The support team.\n",
        "'''\n",
        "# Print the last character [-1] from 0 to course[2] [0:3]\n",
        "# If you want to print all characters [0:] or from the first [1:]\n",
        "# from start to course[4] [:5]\n",
        "# This is all characters as well [:]\n",
        "# If we want to see all we can do [0:-1] that means it works with index\n",
        "other = course[:]\n",
        "print(other)"
      ],
      "execution_count": 0,
      "outputs": [
        {
          "output_type": "stream",
          "text": [
            "Hi every one,\n",
            "We will start the project now.\n",
            "Thank you,\n",
            "The support team.\n",
            "\n"
          ],
          "name": "stdout"
        }
      ]
    },
    {
      "cell_type": "markdown",
      "metadata": {
        "id": "LbbDbIugs4DB",
        "colab_type": "text"
      },
      "source": [
        "Working with printing the message\n"
      ]
    },
    {
      "cell_type": "code",
      "metadata": {
        "id": "Pw5RidsEs_YM",
        "colab_type": "code",
        "outputId": "e920511e-cd1f-4d59-d4ac-2c9caafb6e2f",
        "colab": {
          "base_uri": "https://localhost:8080/",
          "height": 67
        }
      },
      "source": [
        "first = 'John'\n",
        "last = 'Smith'\n",
        "# print out John [Smith] is a coder\n",
        "msg = first + ' [' + last + '] is a coder'\n",
        "print(msg)\n",
        "# it takes a lot of effort to do like this so we have the formatted way\n",
        "# With f from the begining then using braces or curly brackets {}\n",
        "# to call the variables.\n",
        "msg2= f'{first} [{last}] is a coder'\n",
        "print()\n",
        "print(msg2)\n"
      ],
      "execution_count": 0,
      "outputs": [
        {
          "output_type": "stream",
          "text": [
            "John [Smith] is a coder\n",
            "\n",
            "John [Smith] is a coder\n"
          ],
          "name": "stdout"
        }
      ]
    },
    {
      "cell_type": "markdown",
      "metadata": {
        "id": "u29BQ-WmvM3i",
        "colab_type": "text"
      },
      "source": [
        "## String method\n",
        "we will work with string in Python\n"
      ]
    },
    {
      "cell_type": "code",
      "metadata": {
        "id": "sn7FSSKtvRig",
        "colab_type": "code",
        "outputId": "ad1220ea-124f-4f9c-f75a-5f368242d8fc",
        "colab": {
          "base_uri": "https://localhost:8080/",
          "height": 34
        }
      },
      "source": [
        "course = 'Python for beginners'\n",
        "# If we want to count the length of the string we use function len\n",
        "print(len(course))\n"
      ],
      "execution_count": 0,
      "outputs": [
        {
          "output_type": "stream",
          "text": [
            "20\n"
          ],
          "name": "stdout"
        }
      ]
    },
    {
      "cell_type": "markdown",
      "metadata": {
        "id": "uTZRPSRHv94D",
        "colab_type": "text"
      },
      "source": [
        "**Another way is to use object oriented program. So we can see course like an object so it will have the method, functions, class for this object**\n",
        "\n"
      ]
    },
    {
      "cell_type": "code",
      "metadata": {
        "id": "GY_As9N1wWhp",
        "colab_type": "code",
        "outputId": "9401720b-4378-4244-9aac-d6e3a6b4cd16",
        "colab": {
          "base_uri": "https://localhost:8080/",
          "height": 168
        }
      },
      "source": [
        "course = 'Python for beginners'\n",
        "print(course)\n",
        "print(len(course))\n",
        "# If we want to upper case all the string course we will use the method upper\n",
        "courseUpper = course.upper()\n",
        "# now we print this one out\n",
        "print(courseUpper)\n",
        "# the course still not modified\n",
        "print(course)\n",
        "# print lower\n",
        "print(course.lower())\n",
        "# Find the index of the string\n",
        "print(course.find('P'))\n",
        "print(course.find('n'))\n",
        "print(course.find('0')) # we get -1 because this character is not in the string\n",
        "print(course.find('beginners')) # find the start index of the string"
      ],
      "execution_count": 0,
      "outputs": [
        {
          "output_type": "stream",
          "text": [
            "Python for beginners\n",
            "20\n",
            "PYTHON FOR BEGINNERS\n",
            "Python for beginners\n",
            "python for beginners\n",
            "0\n",
            "5\n",
            "-1\n",
            "11\n"
          ],
          "name": "stdout"
        }
      ]
    },
    {
      "cell_type": "code",
      "metadata": {
        "id": "5x6qEiHwytp_",
        "colab_type": "code",
        "outputId": "bfaa57a4-6581-4e1a-96ca-9ca25a803871",
        "colab": {
          "base_uri": "https://localhost:8080/",
          "height": 34
        }
      },
      "source": [
        "# We want to replace string in the string, we use replace mehthod\n",
        "course = 'Python for beginners'\n",
        "print(course.replace('beginners', 'everyone'))"
      ],
      "execution_count": 0,
      "outputs": [
        {
          "output_type": "stream",
          "text": [
            "Python for everyone\n"
          ],
          "name": "stdout"
        }
      ]
    },
    {
      "cell_type": "code",
      "metadata": {
        "id": "TKlHY76dzab2",
        "colab_type": "code",
        "outputId": "0717a902-b431-43e2-dda4-87c48bf08272",
        "colab": {
          "base_uri": "https://localhost:8080/",
          "height": 50
        }
      },
      "source": [
        "# Bolean true false with the string\n",
        "course = 'Python for beginners'\n",
        "print('Python' in course)\n",
        "print('python' in course) # False because we do not have python in the text"
      ],
      "execution_count": 0,
      "outputs": [
        {
          "output_type": "stream",
          "text": [
            "True\n",
            "False\n"
          ],
          "name": "stdout"
        }
      ]
    },
    {
      "cell_type": "markdown",
      "metadata": {
        "id": "D3m5dzwt0ggK",
        "colab_type": "text"
      },
      "source": [
        "## Arithmetic Operations"
      ]
    },
    {
      "cell_type": "code",
      "metadata": {
        "id": "xdg9vGGIzmvS",
        "colab_type": "code",
        "outputId": "703562db-9089-4eef-f905-1815577384c0",
        "colab": {
          "base_uri": "https://localhost:8080/",
          "height": 101
        }
      },
      "source": [
        "# Int like 10 and float like 10.2\n",
        "print(10 + 3)\n",
        "print(10/3)\n",
        "print(10//3) # we have integer number\n",
        "print(10 % 3) # we have remainder of the division 10/3 is 1\n",
        "print(10 ** 3) # exponent with 2 asterisks ** ten to the power of 3 is 1000"
      ],
      "execution_count": 0,
      "outputs": [
        {
          "output_type": "stream",
          "text": [
            "13\n",
            "3.3333333333333335\n",
            "3\n",
            "1\n",
            "1000\n"
          ],
          "name": "stdout"
        }
      ]
    },
    {
      "cell_type": "code",
      "metadata": {
        "id": "ptTRYM5a2NFU",
        "colab_type": "code",
        "outputId": "48481b1e-5c65-4281-bc59-880a7f7ece5c",
        "colab": {
          "base_uri": "https://localhost:8080/",
          "height": 50
        }
      },
      "source": [
        "# Syntax equal with python\n",
        "x = 10\n",
        "# x = x + 3\n",
        "x += 3 # add 3 from x\n",
        "print(x)\n",
        "x=10\n",
        "x -= 3 # subtract 3 from x\n",
        "print(x)"
      ],
      "execution_count": 0,
      "outputs": [
        {
          "output_type": "stream",
          "text": [
            "13\n",
            "7\n"
          ],
          "name": "stdout"
        }
      ]
    },
    {
      "cell_type": "markdown",
      "metadata": {
        "id": "Ew-qRMv021Mc",
        "colab_type": "text"
      },
      "source": [
        "## Operator Precedence\n",
        "Parenthesis or round bracket\n",
        "\n",
        "Exponentiation 3**3\n",
        "\n",
        "Multiplication or Division\n",
        "\n",
        "Addition or Subtraction"
      ]
    },
    {
      "cell_type": "code",
      "metadata": {
        "colab_type": "code",
        "outputId": "452ed4e5-48ef-42ed-9233-7888f1c484f9",
        "id": "vQOFf09g4RTH",
        "colab": {
          "base_uri": "https://localhost:8080/",
          "height": 34
        }
      },
      "source": [
        "x= 2 + 3*2**2 # 2 to the power of 2 first we get 4 then multiply with 3 got 12\n",
        "# then plus 2 we have 14 to the final\n",
        "print(x)"
      ],
      "execution_count": 0,
      "outputs": [
        {
          "output_type": "stream",
          "text": [
            "14\n"
          ],
          "name": "stdout"
        }
      ]
    },
    {
      "cell_type": "code",
      "metadata": {
        "id": "Rr-wI2wA4U9v",
        "colab_type": "code",
        "outputId": "4b3998f0-81fe-4ce9-f3e2-095a1e49a549",
        "colab": {
          "base_uri": "https://localhost:8080/",
          "height": 34
        }
      },
      "source": [
        "x= (2 + 3)*2**3 # 2 plus 3 first\n",
        "print(x)"
      ],
      "execution_count": 0,
      "outputs": [
        {
          "output_type": "stream",
          "text": [
            "40\n"
          ],
          "name": "stdout"
        }
      ]
    },
    {
      "cell_type": "markdown",
      "metadata": {
        "id": "Bqaga_CT4m4r",
        "colab_type": "text"
      },
      "source": [
        "## Math Functions"
      ]
    },
    {
      "cell_type": "code",
      "metadata": {
        "id": "4pzXQ02S4qi8",
        "colab_type": "code",
        "outputId": "fd0082b7-7cee-4a82-c51d-0baea127f3a3",
        "colab": {
          "base_uri": "https://localhost:8080/",
          "height": 50
        }
      },
      "source": [
        "# round funciton\n",
        "x=2.9\n",
        "print(round(x))\n",
        "# absolut function abs\n",
        "print(abs(-1.3))\n",
        "print()\n"
      ],
      "execution_count": 0,
      "outputs": [
        {
          "output_type": "stream",
          "text": [
            "3\n",
            "1.3\n"
          ],
          "name": "stdout"
        }
      ]
    },
    {
      "cell_type": "code",
      "metadata": {
        "id": "Kr9mVCeG5fAs",
        "colab_type": "code",
        "outputId": "4c6cf22b-8916-40d9-d37b-9a4401bd9c3a",
        "colab": {
          "base_uri": "https://localhost:8080/",
          "height": 50
        }
      },
      "source": [
        "# another way is to use module in python like math\n",
        "import math\n",
        "print(math.ceil(2.9)) # like rounding up we have 3\n",
        "print(math.floor(2.9)) # like rounding down we have 3"
      ],
      "execution_count": 0,
      "outputs": [
        {
          "output_type": "stream",
          "text": [
            "3\n",
            "2\n"
          ],
          "name": "stdout"
        }
      ]
    },
    {
      "cell_type": "markdown",
      "metadata": {
        "id": "pPHcf5YM6K3V",
        "colab_type": "text"
      },
      "source": [
        "## If Statements\n",
        "For example from Mosh\n",
        "\n",
        "if it is hot\n",
        "\n",
        "> It is a hot day\n",
        "\n",
        "> Drink more water \n",
        "\n",
        "Otherwise if it is cold\n",
        "\n",
        "> It is a cold day\n",
        "\n",
        "> Wear warm clothes\n",
        "\n",
        "otherwise\n",
        "\n",
        "> It si a nice day"
      ]
    },
    {
      "cell_type": "code",
      "metadata": {
        "id": "JnDiH2NE6NF0",
        "colab_type": "code",
        "outputId": "88340b17-50fb-40fb-ccbf-5ad771f7f06a",
        "colab": {
          "base_uri": "https://localhost:8080/",
          "height": 67
        }
      },
      "source": [
        "is_hot = True\n",
        "# Colon for the condition and python will automatically indent\n",
        "# remove indent back to the begining of the line press shift+tab\n",
        "# The new line will not affect by the if condition\n",
        "if is_hot:\n",
        "  print('It is a hot day')\n",
        "print('Check indent haha')\n",
        "\n",
        "is_hot = False\n",
        "if is_hot:\n",
        "  print('It is a hot day') # This line will not appear\n",
        "print('Check indent haha') # This line is not affected by if statement"
      ],
      "execution_count": 0,
      "outputs": [
        {
          "output_type": "stream",
          "text": [
            "It is a hot day\n",
            "Check indent haha\n",
            "Check indent haha\n"
          ],
          "name": "stdout"
        }
      ]
    },
    {
      "cell_type": "code",
      "metadata": {
        "id": "Skh6nc2A8mW9",
        "colab_type": "code",
        "outputId": "34182ff1-8c70-495a-91df-3f4f005a627d",
        "colab": {
          "base_uri": "https://localhost:8080/",
          "height": 34
        }
      },
      "source": [
        "is_hot = False\n",
        "if is_hot:\n",
        "  print('It is a hot day') # if the condition is True\n",
        "else:\n",
        "  print('It is a cold day') # if the condition is False"
      ],
      "execution_count": 0,
      "outputs": [
        {
          "output_type": "stream",
          "text": [
            "It is a cold day\n"
          ],
          "name": "stdout"
        }
      ]
    },
    {
      "cell_type": "code",
      "metadata": {
        "id": "snhni_ZQ-Q1t",
        "colab_type": "code",
        "outputId": "69984f9b-92b2-4de0-fcdd-a11b6d0e95d7",
        "colab": {
          "base_uri": "https://localhost:8080/",
          "height": 34
        }
      },
      "source": [
        "is_hot = False\n",
        "is_cold = False\n",
        "if is_hot:\n",
        "  print('It is a hot day') # if the condition hot is True\n",
        "elif is_cold:\n",
        "  print('It is a cold day') # if the condition cold is True\n",
        "else:\n",
        "  print('it is a nice day')\n"
      ],
      "execution_count": 0,
      "outputs": [
        {
          "output_type": "stream",
          "text": [
            "it is a nice day\n"
          ],
          "name": "stdout"
        }
      ]
    },
    {
      "cell_type": "markdown",
      "metadata": {
        "id": "2JWI111d_wOo",
        "colab_type": "text"
      },
      "source": [
        "###**It is the end of today**##"
      ]
    }
  ]
}