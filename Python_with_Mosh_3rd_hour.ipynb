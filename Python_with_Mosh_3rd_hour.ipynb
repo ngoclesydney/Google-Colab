{
  "nbformat": 4,
  "nbformat_minor": 0,
  "metadata": {
    "colab": {
      "name": "Python with Mosh 3rd hour.ipynb",
      "provenance": [],
      "collapsed_sections": [],
      "include_colab_link": true
    },
    "kernelspec": {
      "name": "python3",
      "display_name": "Python 3"
    }
  },
  "cells": [
    {
      "cell_type": "markdown",
      "metadata": {
        "id": "view-in-github",
        "colab_type": "text"
      },
      "source": [
        "<a href=\"https://colab.research.google.com/github/ngoclesydney/Google-Colab/blob/master/Python_with_Mosh_3rd_hour.ipynb\" target=\"_parent\"><img src=\"https://colab.research.google.com/assets/colab-badge.svg\" alt=\"Open In Colab\"/></a>"
      ]
    },
    {
      "cell_type": "markdown",
      "metadata": {
        "id": "H-ZtmtxefYNE",
        "colab_type": "text"
      },
      "source": [
        "# 2D List\n",
        "A matrix include rows and items.\n",
        "Let place a matrix is matrix[i][j]\n",
        "The first row is matrix[0]\n",
        "The first item of the first row is matrix[0][0]\n",
        "So matrix[i][j] show the item (j-1) and row (i-1)"
      ]
    },
    {
      "cell_type": "code",
      "metadata": {
        "id": "hlFT5o2DfL0n",
        "colab_type": "code",
        "colab": {
          "base_uri": "https://localhost:8080/",
          "height": 218
        },
        "outputId": "79c31176-9421-46db-843f-1503828a59ae"
      },
      "source": [
        "\n",
        "matrix = [\n",
        "      [1, 2, 3],\n",
        "      [4, 5, 6],\n",
        "      [7, 8, 9]\n",
        "]\n",
        "print(matrix[0][0]) # Position is the first number of the first array \n",
        "print(matrix[0][1]) # Position is the second number of the first array \n",
        "# Modify the number in the array\n",
        "matrix[0][0]=20\n",
        "print(matrix)\n",
        "# List each item in the matrix we can use for loops as follows\n",
        "for row in matrix:\n",
        "  for item in row:\n",
        "    print(item)\n"
      ],
      "execution_count": 5,
      "outputs": [
        {
          "output_type": "stream",
          "text": [
            "1\n",
            "2\n",
            "[[20, 2, 3], [4, 5, 6], [7, 8, 9]]\n",
            "20\n",
            "2\n",
            "3\n",
            "4\n",
            "5\n",
            "6\n",
            "7\n",
            "8\n",
            "9\n"
          ],
          "name": "stdout"
        }
      ]
    },
    {
      "cell_type": "markdown",
      "metadata": {
        "id": "7FQhTRpXiOu-",
        "colab_type": "text"
      },
      "source": [
        "## List Methods"
      ]
    },
    {
      "cell_type": "code",
      "metadata": {
        "id": "z8NHhoR1iVb0",
        "colab_type": "code",
        "colab": {
          "base_uri": "https://localhost:8080/",
          "height": 118
        },
        "outputId": "93f47c7a-c606-40c8-af64-2755c3d8fe8e"
      },
      "source": [
        "numbers=[5, 2, 1, 7, 4]\n",
        "# We can do everything with list as method\n",
        "numbers.append(20) # Add 20 at the end of the List\n",
        "print(numbers)\n",
        "# insert an item or an object into the list with the exact index\n",
        "numbers.insert(0, 10)\n",
        "print(numbers)\n",
        "# remove items\n",
        "numbers.remove(5)\n",
        "print(numbers)\n",
        "# remove the last item default with pop method\n",
        "numbers.pop()\n",
        "print(numbers)\n",
        "# or we can remove with item index\n",
        "numbers.pop(1)\n",
        "print(numbers)\n",
        "# delete all items using clear\n",
        "numbers.clear()\n",
        "print(numbers)"
      ],
      "execution_count": 12,
      "outputs": [
        {
          "output_type": "stream",
          "text": [
            "[5, 2, 1, 7, 4, 20]\n",
            "[10, 5, 2, 1, 7, 4, 20]\n",
            "[10, 2, 1, 7, 4, 20]\n",
            "[10, 2, 1, 7, 4]\n",
            "[10, 1, 7, 4]\n",
            "[]\n"
          ],
          "name": "stdout"
        }
      ]
    },
    {
      "cell_type": "code",
      "metadata": {
        "id": "e1-nsZL2k1pf",
        "colab_type": "code",
        "colab": {
          "base_uri": "https://localhost:8080/",
          "height": 229
        },
        "outputId": "4af8751d-7d4c-4a5b-b36f-d0fa9a82fc48"
      },
      "source": [
        "numbers=[5, 2, 1, 7, 4]\n",
        "# We can check the index of the item by using index method\n",
        "print(numbers.index(5)) # index of the value item 5 is 0\n",
        "print(50 in numbers) # the boolean value of this logic is False\n",
        "print(numbers.index(15)) # not exist because 15 is not in list"
      ],
      "execution_count": 15,
      "outputs": [
        {
          "output_type": "stream",
          "text": [
            "0\n",
            "False\n"
          ],
          "name": "stdout"
        },
        {
          "output_type": "error",
          "ename": "ValueError",
          "evalue": "ignored",
          "traceback": [
            "\u001b[0;31m---------------------------------------------------------------------------\u001b[0m",
            "\u001b[0;31mValueError\u001b[0m                                Traceback (most recent call last)",
            "\u001b[0;32m<ipython-input-15-a12577d89093>\u001b[0m in \u001b[0;36m<module>\u001b[0;34m()\u001b[0m\n\u001b[1;32m      3\u001b[0m \u001b[0mprint\u001b[0m\u001b[0;34m(\u001b[0m\u001b[0mnumbers\u001b[0m\u001b[0;34m.\u001b[0m\u001b[0mindex\u001b[0m\u001b[0;34m(\u001b[0m\u001b[0;36m5\u001b[0m\u001b[0;34m)\u001b[0m\u001b[0;34m)\u001b[0m \u001b[0;31m# index of the value item 5 is 0\u001b[0m\u001b[0;34m\u001b[0m\u001b[0;34m\u001b[0m\u001b[0m\n\u001b[1;32m      4\u001b[0m \u001b[0mprint\u001b[0m\u001b[0;34m(\u001b[0m\u001b[0;36m50\u001b[0m \u001b[0;32min\u001b[0m \u001b[0mnumbers\u001b[0m\u001b[0;34m)\u001b[0m\u001b[0;34m\u001b[0m\u001b[0;34m\u001b[0m\u001b[0m\n\u001b[0;32m----> 5\u001b[0;31m \u001b[0mprint\u001b[0m\u001b[0;34m(\u001b[0m\u001b[0mnumbers\u001b[0m\u001b[0;34m.\u001b[0m\u001b[0mindex\u001b[0m\u001b[0;34m(\u001b[0m\u001b[0;36m15\u001b[0m\u001b[0;34m)\u001b[0m\u001b[0;34m)\u001b[0m \u001b[0;31m# not exist because 15 is not in list\u001b[0m\u001b[0;34m\u001b[0m\u001b[0;34m\u001b[0m\u001b[0m\n\u001b[0m",
            "\u001b[0;31mValueError\u001b[0m: 15 is not in list"
          ]
        }
      ]
    },
    {
      "cell_type": "code",
      "metadata": {
        "id": "0zCoKL4TluX4",
        "colab_type": "code",
        "colab": {
          "base_uri": "https://localhost:8080/",
          "height": 84
        },
        "outputId": "830dd640-3eaf-40d3-b2dc-086df81ce2c7"
      },
      "source": [
        "numbers=[5, 2, 1, 7, 5, 4]\n",
        "# Count how many items has the same value\n",
        "print(numbers.count(5))\n",
        "# We can sort the list by using sort method. Ascending is default\n",
        "numbers.sort()\n",
        "print(numbers)\n",
        "# We can sort descending by reverse method\n",
        "numbers.reverse()\n",
        "print(numbers)\n",
        "# We can copy the list to the new list\n",
        "numbers2 = numbers.copy()\n",
        "numbers2.append(3)\n",
        "print(numbers2)"
      ],
      "execution_count": 20,
      "outputs": [
        {
          "output_type": "stream",
          "text": [
            "2\n",
            "[1, 2, 4, 5, 5, 7]\n",
            "[7, 5, 5, 4, 2, 1]\n",
            "[7, 5, 5, 4, 2, 1, 3]\n"
          ],
          "name": "stdout"
        }
      ]
    },
    {
      "cell_type": "markdown",
      "metadata": {
        "id": "9qHw41N7ncH2",
        "colab_type": "text"
      },
      "source": [
        "## Remove Duplicate in the list\n",
        "Create an empty list B\n",
        "Read each item in the list A from the begining\n",
        "if item not in the list B, add that item"
      ]
    },
    {
      "cell_type": "code",
      "metadata": {
        "id": "DV_KaBobnWIJ",
        "colab_type": "code",
        "colab": {
          "base_uri": "https://localhost:8080/",
          "height": 50
        },
        "outputId": "340d5b24-1cd8-4ab6-acf9-7fec2417835a"
      },
      "source": [
        "numbers3 = [2, 2, 3, 3, 1, 5, 6, 2, 4, 5, 6, 7]\n",
        "print(numbers3)\n",
        "uniqueList = []\n",
        "for item in numbers3:\n",
        "  if item not in uniqueList:\n",
        "    uniqueList.append(item)\n",
        "print(uniqueList)"
      ],
      "execution_count": 23,
      "outputs": [
        {
          "output_type": "stream",
          "text": [
            "[2, 2, 3, 3, 1, 5, 6, 2, 4, 5, 6, 7]\n",
            "[2, 3, 1, 5, 6, 4, 7]\n"
          ],
          "name": "stdout"
        }
      ]
    },
    {
      "cell_type": "markdown",
      "metadata": {
        "id": "uRpqEnqmonH6",
        "colab_type": "text"
      },
      "source": [
        "## Tuples is a list but can not be changed\n",
        "Define by round bracket ()\n",
        "we do not have append, insert, remove, pop... like in list method\n",
        "we only have index or count methods in tuples"
      ]
    },
    {
      "cell_type": "code",
      "metadata": {
        "id": "28K_U4pSpM_j",
        "colab_type": "code",
        "colab": {
          "base_uri": "https://localhost:8080/",
          "height": 246
        },
        "outputId": "049e258c-b5a1-40ac-9c28-fde27a1c688f"
      },
      "source": [
        "numbersT = (1, 2, 3, 2, 2, 3, 1, 4, 5)\n",
        "print(numbersT)\n",
        "print(numbersT.count(2))\n",
        "print(numbersT[0])\n",
        "numbersT[0] = 10 # warning the erres"
      ],
      "execution_count": 27,
      "outputs": [
        {
          "output_type": "stream",
          "text": [
            "(1, 2, 3, 2, 2, 3, 1, 4, 5)\n",
            "3\n",
            "1\n"
          ],
          "name": "stdout"
        },
        {
          "output_type": "error",
          "ename": "TypeError",
          "evalue": "ignored",
          "traceback": [
            "\u001b[0;31m---------------------------------------------------------------------------\u001b[0m",
            "\u001b[0;31mTypeError\u001b[0m                                 Traceback (most recent call last)",
            "\u001b[0;32m<ipython-input-27-1f2c43d07a26>\u001b[0m in \u001b[0;36m<module>\u001b[0;34m()\u001b[0m\n\u001b[1;32m      3\u001b[0m \u001b[0mprint\u001b[0m\u001b[0;34m(\u001b[0m\u001b[0mnumbersT\u001b[0m\u001b[0;34m.\u001b[0m\u001b[0mcount\u001b[0m\u001b[0;34m(\u001b[0m\u001b[0;36m2\u001b[0m\u001b[0;34m)\u001b[0m\u001b[0;34m)\u001b[0m\u001b[0;34m\u001b[0m\u001b[0;34m\u001b[0m\u001b[0m\n\u001b[1;32m      4\u001b[0m \u001b[0mprint\u001b[0m\u001b[0;34m(\u001b[0m\u001b[0mnumbersT\u001b[0m\u001b[0;34m[\u001b[0m\u001b[0;36m0\u001b[0m\u001b[0;34m]\u001b[0m\u001b[0;34m)\u001b[0m\u001b[0;34m\u001b[0m\u001b[0;34m\u001b[0m\u001b[0m\n\u001b[0;32m----> 5\u001b[0;31m \u001b[0mnumbersT\u001b[0m\u001b[0;34m[\u001b[0m\u001b[0;36m0\u001b[0m\u001b[0;34m]\u001b[0m \u001b[0;34m=\u001b[0m \u001b[0;36m10\u001b[0m\u001b[0;34m\u001b[0m\u001b[0;34m\u001b[0m\u001b[0m\n\u001b[0m",
            "\u001b[0;31mTypeError\u001b[0m: 'tuple' object does not support item assignment"
          ]
        }
      ]
    },
    {
      "cell_type": "markdown",
      "metadata": {
        "id": "nmthWUSFp-No",
        "colab_type": "text"
      },
      "source": [
        "## Unpacking\n",
        "This is the powerful feature in Python\n",
        "\n",
        "We can unpack a tuple into different valuables.\n",
        "\n",
        "like an example below\n",
        "\n",
        "we have a coordinate like this.\n",
        "\n",
        "coordinates = (1, 2, 3)\n",
        "\n",
        "x= coordinates[0]\n",
        "\n",
        "y= coordinates[1]\n",
        "\n",
        "z= coordinates[2]\n",
        "\n",
        "a = x * y * z\n",
        "\n",
        "but for unpacking we will have\n",
        "\n",
        "x, y, z = coordinates # That is\n"
      ]
    },
    {
      "cell_type": "code",
      "metadata": {
        "id": "kNv2GgbzqABo",
        "colab_type": "code",
        "colab": {
          "base_uri": "https://localhost:8080/",
          "height": 34
        },
        "outputId": "b57f173c-a053-4308-af30-da0e42d45434"
      },
      "source": [
        "coordinates = (1, 2, 3) # we can use with list or tuple\n",
        "x, y, z = coordinates\n",
        "print(y)"
      ],
      "execution_count": 1,
      "outputs": [
        {
          "output_type": "stream",
          "text": [
            "2\n"
          ],
          "name": "stdout"
        }
      ]
    },
    {
      "cell_type": "markdown",
      "metadata": {
        "id": "1krdM7L2L285",
        "colab_type": "text"
      },
      "source": [
        "## Dictionaries\n",
        "using curly braces {}"
      ]
    },
    {
      "cell_type": "code",
      "metadata": {
        "id": "7X4cP1IIL5zm",
        "colab_type": "code",
        "colab": {
          "base_uri": "https://localhost:8080/",
          "height": 212
        },
        "outputId": "bb17907a-9b10-40e7-d5ae-6ba671e49307"
      },
      "source": [
        "customer = {\n",
        "    \"name\": \"John Smith\",\n",
        "    \"age\": 30,\n",
        "    # \"age\": 40, not allowed in dictionaries\n",
        "    \"is_verified\": True\n",
        "}\n",
        "# using squre brackets to indicate\n",
        "print(customer[\"name\"])\n",
        "# error if the key does not exist\n",
        "# print(customer[birthdate])\n",
        "# error also happens when we use capticalise as well\n",
        "print(customer[Name])"
      ],
      "execution_count": 5,
      "outputs": [
        {
          "output_type": "stream",
          "text": [
            "John Smith\n"
          ],
          "name": "stdout"
        },
        {
          "output_type": "error",
          "ename": "NameError",
          "evalue": "ignored",
          "traceback": [
            "\u001b[0;31m---------------------------------------------------------------------------\u001b[0m",
            "\u001b[0;31mNameError\u001b[0m                                 Traceback (most recent call last)",
            "\u001b[0;32m<ipython-input-5-27c37583c666>\u001b[0m in \u001b[0;36m<module>\u001b[0;34m()\u001b[0m\n\u001b[1;32m     10\u001b[0m \u001b[0;31m# print(customer[birthdate])\u001b[0m\u001b[0;34m\u001b[0m\u001b[0;34m\u001b[0m\u001b[0;34m\u001b[0m\u001b[0m\n\u001b[1;32m     11\u001b[0m \u001b[0;31m# error also happens when we use capticalise as well\u001b[0m\u001b[0;34m\u001b[0m\u001b[0;34m\u001b[0m\u001b[0;34m\u001b[0m\u001b[0m\n\u001b[0;32m---> 12\u001b[0;31m \u001b[0mprint\u001b[0m\u001b[0;34m(\u001b[0m\u001b[0mcustomer\u001b[0m\u001b[0;34m[\u001b[0m\u001b[0mName\u001b[0m\u001b[0;34m]\u001b[0m\u001b[0;34m)\u001b[0m\u001b[0;34m\u001b[0m\u001b[0;34m\u001b[0m\u001b[0m\n\u001b[0m",
            "\u001b[0;31mNameError\u001b[0m: name 'Name' is not defined"
          ]
        }
      ]
    },
    {
      "cell_type": "code",
      "metadata": {
        "id": "3X9BDugwpMtC",
        "colab_type": "code",
        "colab": {
          "base_uri": "https://localhost:8080/",
          "height": 34
        },
        "outputId": "42928e82-fc82-4c0d-9f6b-cac1972370b4"
      },
      "source": [
        "customer = {\n",
        "    \"name\": \"John Smith\",\n",
        "    \"age\": 30,\n",
        "    # \"age\": 40, not allowed in dictionaries\n",
        "    \"is_verified\": True\n",
        "}\n",
        "# add new key value\n",
        "customer[\"birthdate\"]=\"Jan 1 1980\"\n",
        "print(customer[\"birthdate\"])"
      ],
      "execution_count": 8,
      "outputs": [
        {
          "output_type": "stream",
          "text": [
            "Jan 1 1980\n"
          ],
          "name": "stdout"
        }
      ]
    },
    {
      "cell_type": "code",
      "metadata": {
        "id": "3J0C7ZJZp4xY",
        "colab_type": "code",
        "colab": {
          "base_uri": "https://localhost:8080/",
          "height": 50
        },
        "outputId": "5e25af5a-2657-44ed-99ca-b1e95f65d12b"
      },
      "source": [
        "# translate from numbers to words using dictionaries\n",
        "phone = input (\"Phone: \")\n",
        "digit_dict = {\n",
        "    \"1\": \"One\",\n",
        "    \"2\": \"Two\",\n",
        "    \"3\": \"Three\",\n",
        "    \"4\": \"Four\"\n",
        "}\n",
        "output=\"\"\n",
        "for ch in phone:\n",
        "  output += digit_dict.get(ch, \"!\") + \" \" # If ch is not in digit dictionaries\n",
        "  # then we will define it is ! character\n",
        "print(output)"
      ],
      "execution_count": 10,
      "outputs": [
        {
          "output_type": "stream",
          "text": [
            "Phone: 12435\n",
            "One Two Four Three ! \n"
          ],
          "name": "stdout"
        }
      ]
    },
    {
      "cell_type": "markdown",
      "metadata": {
        "id": "GPT2SVoQs-Mo",
        "colab_type": "text"
      },
      "source": [
        "## Emoji Converter"
      ]
    },
    {
      "cell_type": "code",
      "metadata": {
        "id": "2vJqFeTcs8UI",
        "colab_type": "code",
        "colab": {
          "base_uri": "https://localhost:8080/",
          "height": 50
        },
        "outputId": "463e2d23-aa2a-423f-f490-53e18a6798dc"
      },
      "source": [
        "# using split to cut words\n",
        "message = input(\">\")\n",
        "words = message.split(' ') # words will be the list of words we typed in without space\n",
        "emojis = {\n",
        "    \":)\": \"\"\n",
        "}\n",
        "print(words)"
      ],
      "execution_count": 11,
      "outputs": [
        {
          "output_type": "stream",
          "text": [
            ">I am a hero\n",
            "['I', 'am', 'a', 'hero']\n"
          ],
          "name": "stdout"
        }
      ]
    },
    {
      "cell_type": "markdown",
      "metadata": {
        "id": "rF5-YdLbyUyb",
        "colab_type": "text"
      },
      "source": [
        "# Fuctions in Python\n",
        "The function is defined by the string def _name_(variables):\n",
        "The order is def name variables :\n",
        "It would be better before and after functions or classes in Python we add two blanks lines."
      ]
    },
    {
      "cell_type": "code",
      "metadata": {
        "id": "KxJ77rOdyT4F",
        "colab_type": "code",
        "colab": {
          "base_uri": "https://localhost:8080/",
          "height": 84
        },
        "outputId": "ac9b7d79-a6ae-4f4c-e197-aa1c0b28e714"
      },
      "source": [
        "def greeting():\n",
        "  print('Hi there')\n",
        "  print('I am Ngoc')\n",
        "\n",
        "\n",
        "print('Hello World')\n",
        "greeting()\n",
        "print('Finish')\n"
      ],
      "execution_count": 14,
      "outputs": [
        {
          "output_type": "stream",
          "text": [
            "Hello World\n",
            "Hi there\n",
            "I am Ngoc\n",
            "Finish\n"
          ],
          "name": "stdout"
        }
      ]
    },
    {
      "cell_type": "markdown",
      "metadata": {
        "id": "QQrc-lE24GPN",
        "colab_type": "text"
      },
      "source": [
        "## Parameters\n",
        "Parameteris are the variables "
      ]
    },
    {
      "cell_type": "code",
      "metadata": {
        "id": "WaUI5uHp4JAg",
        "colab_type": "code",
        "colab": {
          "base_uri": "https://localhost:8080/",
          "height": 229
        },
        "outputId": "7acb3d5a-c918-4033-89d7-0a379591a9ac"
      },
      "source": [
        "def greeting(name):\n",
        "  print(f\"Hi {name}\")\n",
        "\n",
        "\n",
        "greeting(\"Ngoc\")\n",
        "# If you call greeting() then error argument\n",
        "greeting()\n",
        "print('Finish')"
      ],
      "execution_count": 16,
      "outputs": [
        {
          "output_type": "stream",
          "text": [
            "Hi Ngoc\n"
          ],
          "name": "stdout"
        },
        {
          "output_type": "error",
          "ename": "TypeError",
          "evalue": "ignored",
          "traceback": [
            "\u001b[0;31m---------------------------------------------------------------------------\u001b[0m",
            "\u001b[0;31mTypeError\u001b[0m                                 Traceback (most recent call last)",
            "\u001b[0;32m<ipython-input-16-c4eb125c4916>\u001b[0m in \u001b[0;36m<module>\u001b[0;34m()\u001b[0m\n\u001b[1;32m      5\u001b[0m \u001b[0mgreeting\u001b[0m\u001b[0;34m(\u001b[0m\u001b[0;34m\"Ngoc\"\u001b[0m\u001b[0;34m)\u001b[0m\u001b[0;34m\u001b[0m\u001b[0;34m\u001b[0m\u001b[0m\n\u001b[1;32m      6\u001b[0m \u001b[0;31m# If you call greeting() then error argument\u001b[0m\u001b[0;34m\u001b[0m\u001b[0;34m\u001b[0m\u001b[0;34m\u001b[0m\u001b[0m\n\u001b[0;32m----> 7\u001b[0;31m \u001b[0mgreeting\u001b[0m\u001b[0;34m(\u001b[0m\u001b[0;34m)\u001b[0m\u001b[0;34m\u001b[0m\u001b[0;34m\u001b[0m\u001b[0m\n\u001b[0m\u001b[1;32m      8\u001b[0m \u001b[0mprint\u001b[0m\u001b[0;34m(\u001b[0m\u001b[0;34m'Finish'\u001b[0m\u001b[0;34m)\u001b[0m\u001b[0;34m\u001b[0m\u001b[0;34m\u001b[0m\u001b[0m\n",
            "\u001b[0;31mTypeError\u001b[0m: greeting() missing 1 required positional argument: 'name'"
          ]
        }
      ]
    },
    {
      "cell_type": "code",
      "metadata": {
        "id": "4-E0qa30Rdsk",
        "colab_type": "code",
        "colab": {
          "base_uri": "https://localhost:8080/",
          "height": 262
        },
        "outputId": "ebc02f8c-5d6e-4189-a3f6-b7ead80deaff"
      },
      "source": [
        "def greeting(first_name, last_name):\n",
        "  print(f\"Hi {first_name} {last_name}!\")\n",
        "\n",
        "\n",
        "greeting(\"Ngoc\", \"LE\")\n",
        "# Function will get valuables in orders\n",
        "greeting(\"LE\", \"Ngoc\")\n",
        "# Keyword arguments then we do not need the order\n",
        "greeting(last_name=\"LE\", first_name=\"Ngoc\")\n",
        "# Also error if not clear in using multple values for argument\n",
        "greeting(\"LE\", first_name=\"Ngoc\")\n",
        "print('Finish')"
      ],
      "execution_count": 20,
      "outputs": [
        {
          "output_type": "stream",
          "text": [
            "Hi Ngoc LE!\n",
            "Hi LE Ngoc!\n",
            "Hi Ngoc LE!\n"
          ],
          "name": "stdout"
        },
        {
          "output_type": "error",
          "ename": "TypeError",
          "evalue": "ignored",
          "traceback": [
            "\u001b[0;31m---------------------------------------------------------------------------\u001b[0m",
            "\u001b[0;31mTypeError\u001b[0m                                 Traceback (most recent call last)",
            "\u001b[0;32m<ipython-input-20-6b60c9954866>\u001b[0m in \u001b[0;36m<module>\u001b[0;34m()\u001b[0m\n\u001b[1;32m      8\u001b[0m \u001b[0;31m# Keyword arguments then we do not need the order\u001b[0m\u001b[0;34m\u001b[0m\u001b[0;34m\u001b[0m\u001b[0;34m\u001b[0m\u001b[0m\n\u001b[1;32m      9\u001b[0m \u001b[0mgreeting\u001b[0m\u001b[0;34m(\u001b[0m\u001b[0mlast_name\u001b[0m\u001b[0;34m=\u001b[0m\u001b[0;34m\"LE\"\u001b[0m\u001b[0;34m,\u001b[0m \u001b[0mfirst_name\u001b[0m\u001b[0;34m=\u001b[0m\u001b[0;34m\"Ngoc\"\u001b[0m\u001b[0;34m)\u001b[0m\u001b[0;34m\u001b[0m\u001b[0;34m\u001b[0m\u001b[0m\n\u001b[0;32m---> 10\u001b[0;31m \u001b[0mgreeting\u001b[0m\u001b[0;34m(\u001b[0m\u001b[0;34m\"LE\"\u001b[0m\u001b[0;34m,\u001b[0m \u001b[0mfirst_name\u001b[0m\u001b[0;34m=\u001b[0m\u001b[0;34m\"Ngoc\"\u001b[0m\u001b[0;34m)\u001b[0m\u001b[0;34m\u001b[0m\u001b[0;34m\u001b[0m\u001b[0m\n\u001b[0m\u001b[1;32m     11\u001b[0m \u001b[0mprint\u001b[0m\u001b[0;34m(\u001b[0m\u001b[0;34m'Finish'\u001b[0m\u001b[0;34m)\u001b[0m\u001b[0;34m\u001b[0m\u001b[0;34m\u001b[0m\u001b[0m\n",
            "\u001b[0;31mTypeError\u001b[0m: greeting() got multiple values for argument 'first_name'"
          ]
        }
      ]
    },
    {
      "cell_type": "markdown",
      "metadata": {
        "id": "AGgXUtn4UBaO",
        "colab_type": "text"
      },
      "source": [
        "## Return Statement\n",
        "It is useful when you working with mathematic.\n",
        "Think like you want to know the value y=f(x)\n",
        "So f is the function x is the parameter or variable you put in. Y is the value you want to get (output). Python will use return method to get the value y\n",
        "\n",
        "For example.\n",
        "\n",
        "$$ y=f(x)=x^2 $$"
      ]
    },
    {
      "cell_type": "code",
      "metadata": {
        "id": "bWO5jfSLUEPo",
        "colab_type": "code",
        "colab": {
          "base_uri": "https://localhost:8080/",
          "height": 34
        },
        "outputId": "3167a48b-0f26-45cc-de0f-bc813baccee2"
      },
      "source": [
        "def square(number):\n",
        "  return number*number\n",
        "print(square(2))\n"
      ],
      "execution_count": 21,
      "outputs": [
        {
          "output_type": "stream",
          "text": [
            "4\n"
          ],
          "name": "stdout"
        }
      ]
    },
    {
      "cell_type": "code",
      "metadata": {
        "id": "uWapGUCUXGdk",
        "colab_type": "code",
        "colab": {
          "base_uri": "https://localhost:8080/",
          "height": 50
        },
        "outputId": "8ce2478a-fc06-40af-9611-51a1f4cfb790"
      },
      "source": [
        "# Remember that by default python function return None\n",
        "def square(number):\n",
        "  print(number*number)\n",
        "  # return None\n",
        "print(square(2))"
      ],
      "execution_count": 25,
      "outputs": [
        {
          "output_type": "stream",
          "text": [
            "4\n",
            "None\n"
          ],
          "name": "stdout"
        }
      ]
    },
    {
      "cell_type": "code",
      "metadata": {
        "id": "zVfb7qF0V0hw",
        "colab_type": "code",
        "colab": {
          "base_uri": "https://localhost:8080/",
          "height": 50
        },
        "outputId": "afe35d3c-cd35-4162-d417-32a383e73bf8"
      },
      "source": [
        "def square(number):\n",
        "  return number*number\n",
        "\n",
        "number_input = input(\"What is your number: \")\n",
        "print(f\"The square of your number is: {square(int(number_input))}\")"
      ],
      "execution_count": 24,
      "outputs": [
        {
          "output_type": "stream",
          "text": [
            "What is your number: 12323\n",
            "The square of your number is: 151856329\n"
          ],
          "name": "stdout"
        }
      ]
    },
    {
      "cell_type": "markdown",
      "metadata": {
        "id": "S-wvg9qExZGF",
        "colab_type": "text"
      },
      "source": [
        "## Reusable Function"
      ]
    },
    {
      "cell_type": "code",
      "metadata": {
        "id": "8WbxQqTTxgD5",
        "colab_type": "code",
        "colab": {
          "base_uri": "https://localhost:8080/",
          "height": 67
        },
        "outputId": "fdbc8dc1-e30b-40f7-e200-2a0192a9da20"
      },
      "source": [
        "# From emoji code app\n",
        "message = input(\">\")\n",
        "words = message.split(\" \") # Split the message to each word with space character\n",
        "print(words)\n",
        "emojis = {\n",
        "    \":)\" : \"Smiling Face\",\n",
        "    \":(\" : \"Crying Face\"\n",
        "}\n",
        "output = \"\"\n",
        "for word in words:\n",
        "  output += emojis.get(word, word) + \" \"\n",
        "print(f\"{output}end\")\n",
        "# Ok we can see that every thing need to have input and output\n",
        "# in the middle is emoji app to recognize the change the face\n",
        "# this middle part can be re-use for different time and different part in the\n",
        "# whole application\n",
        "# so that is the reason we need to change to the function fro reusable in the \n",
        "# future"
      ],
      "execution_count": 5,
      "outputs": [
        {
          "output_type": "stream",
          "text": [
            ">I :(\n",
            "['I', ':(']\n",
            "I Crying Face end\n"
          ],
          "name": "stdout"
        }
      ]
    },
    {
      "cell_type": "code",
      "metadata": {
        "id": "mFVcTocq5PYI",
        "colab_type": "code",
        "colab": {
          "base_uri": "https://localhost:8080/",
          "height": 67
        },
        "outputId": "a85e0da5-4a1b-4f8d-9a4e-58a3498f0291"
      },
      "source": [
        "def emoji_converter(message2):\n",
        "  words = message2.split(\" \") # Split the message to each word with space character\n",
        "  print(words)\n",
        "  emojis = {\n",
        "    \":)\" : \"Smiling Face\",\n",
        "    \":(\" : \"Crying Face\"\n",
        "  }\n",
        "  output = \"\"\n",
        "  for word in words:\n",
        "    output += emojis.get(word, word) + \" \"\n",
        "  return output\n",
        "\n",
        "\n",
        "message2 = input(\">\")\n",
        "print(emoji_converter(message2))"
      ],
      "execution_count": 6,
      "outputs": [
        {
          "output_type": "stream",
          "text": [
            ">I am :(\n",
            "['I', 'am', ':(']\n",
            "I am Crying Face \n"
          ],
          "name": "stdout"
        }
      ]
    }
  ]
}