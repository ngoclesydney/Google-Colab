{
  "nbformat": 4,
  "nbformat_minor": 0,
  "metadata": {
    "colab": {
      "name": "Python with Mosh 4th hour.ipynb",
      "provenance": [],
      "collapsed_sections": [],
      "authorship_tag": "ABX9TyP9I0OVQd2/EjCPzZjiRjVV",
      "include_colab_link": true
    },
    "kernelspec": {
      "name": "python3",
      "display_name": "Python 3"
    }
  },
  "cells": [
    {
      "cell_type": "markdown",
      "metadata": {
        "id": "view-in-github",
        "colab_type": "text"
      },
      "source": [
        "<a href=\"https://colab.research.google.com/github/ngoclesydney/Google-Colab/blob/master/Python_with_Mosh_4th_hour.ipynb\" target=\"_parent\"><img src=\"https://colab.research.google.com/assets/colab-badge.svg\" alt=\"Open In Colab\"/></a>"
      ]
    },
    {
      "cell_type": "markdown",
      "metadata": {
        "id": "16CP_6AI60iv",
        "colab_type": "text"
      },
      "source": [
        "# Exceptions in Python\n",
        "This is very interesting part in Python or any other languages. Because it guide\n",
        "you how to control the errors in programming."
      ]
    },
    {
      "cell_type": "code",
      "metadata": {
        "id": "Oqa4eI-I5viW",
        "colab_type": "code",
        "colab": {
          "base_uri": "https://localhost:8080/",
          "height": 212
        },
        "outputId": "67c45149-954c-46bf-b101-98f3a3455c30"
      },
      "source": [
        "age = int(input(\"Your age: \"))\n",
        "print(age)\n",
        "# if we type 'a' for the input we will see: invalid literal for int() \n",
        "# with base 10: 'a' because the int() function just change charater base 10 to\n",
        "# the integer number. This is ValueError"
      ],
      "execution_count": 4,
      "outputs": [
        {
          "output_type": "stream",
          "text": [
            "Your age: a\n"
          ],
          "name": "stdout"
        },
        {
          "output_type": "error",
          "ename": "ValueError",
          "evalue": "ignored",
          "traceback": [
            "\u001b[0;31m---------------------------------------------------------------------------\u001b[0m",
            "\u001b[0;31mValueError\u001b[0m                                Traceback (most recent call last)",
            "\u001b[0;32m<ipython-input-4-d606d3e28e5c>\u001b[0m in \u001b[0;36m<module>\u001b[0;34m()\u001b[0m\n\u001b[0;32m----> 1\u001b[0;31m \u001b[0mage\u001b[0m \u001b[0;34m=\u001b[0m \u001b[0mint\u001b[0m\u001b[0;34m(\u001b[0m\u001b[0minput\u001b[0m\u001b[0;34m(\u001b[0m\u001b[0;34m\"Your age: \"\u001b[0m\u001b[0;34m)\u001b[0m\u001b[0;34m)\u001b[0m\u001b[0;34m\u001b[0m\u001b[0;34m\u001b[0m\u001b[0m\n\u001b[0m\u001b[1;32m      2\u001b[0m \u001b[0mprint\u001b[0m\u001b[0;34m(\u001b[0m\u001b[0mage\u001b[0m\u001b[0;34m)\u001b[0m\u001b[0;34m\u001b[0m\u001b[0;34m\u001b[0m\u001b[0m\n\u001b[1;32m      3\u001b[0m \u001b[0;31m# if we type 'a' for the input we will see invalid literal for int() with base 10: 'a'\u001b[0m\u001b[0;34m\u001b[0m\u001b[0;34m\u001b[0m\u001b[0;34m\u001b[0m\u001b[0m\n",
            "\u001b[0;31mValueError\u001b[0m: invalid literal for int() with base 10: 'a'"
          ]
        }
      ]
    },
    {
      "cell_type": "code",
      "metadata": {
        "id": "rRKs-Qbu8FdW",
        "colab_type": "code",
        "colab": {
          "base_uri": "https://localhost:8080/",
          "height": 50
        },
        "outputId": "27543f9a-7016-48f2-eeb9-a9cbca742c5f"
      },
      "source": [
        "# We will use try except statement to control this above ValueError\n",
        "try:\n",
        "  age = int(input(\"Your age: \"))\n",
        "  print(age)\n",
        "except ValueError:\n",
        "  print('Invalid value')\n",
        "# It should not be crashed"
      ],
      "execution_count": 6,
      "outputs": [
        {
          "output_type": "stream",
          "text": [
            "Your age: a\n",
            "Invalid value\n"
          ],
          "name": "stdout"
        }
      ]
    },
    {
      "cell_type": "code",
      "metadata": {
        "id": "3uI0Ey959VvI",
        "colab_type": "code",
        "colab": {
          "base_uri": "https://localhost:8080/",
          "height": 50
        },
        "outputId": "e4df02c6-aea7-4eee-a664-6b24b15f2bff"
      },
      "source": [
        "# We also have many exceptions for control error\n",
        "try:\n",
        "  age = int(input(\"Your age: \"))\n",
        "  income = 2000\n",
        "  risk = income/age\n",
        "  print(age)\n",
        "except ZeroDivisionError:\n",
        "  print('Age cannot be 0')\n",
        "except ValueError:\n",
        "  print('Invalid value')\n",
        "# It should not be crashed"
      ],
      "execution_count": 8,
      "outputs": [
        {
          "output_type": "stream",
          "text": [
            "Your age: 0\n",
            "Age cannot be 0\n"
          ],
          "name": "stdout"
        }
      ]
    },
    {
      "cell_type": "markdown",
      "metadata": {
        "id": "C5hOlnIvDDIi",
        "colab_type": "text"
      },
      "source": [
        "## Comments\n",
        "It is very important for any languages.\n",
        "In Python, using # asterick character for commenting.\n",
        "This should be use for guidance the input, output, and algorithm. It can also be the explanation for re-use later or just tell the procedure of the codes.\n",
        "\n",
        "Remember that when we change the code that along with the comments we need to change the comment for consistent as well."
      ]
    },
    {
      "cell_type": "code",
      "metadata": {
        "id": "Vfz_8SkiDFCi",
        "colab_type": "code",
        "colab": {
          "base_uri": "https://localhost:8080/",
          "height": 34
        },
        "outputId": "955db7b8-fa0b-42b1-9ad6-bb6d528cd68d"
      },
      "source": [
        "# Compute and return the square of a number\n",
        "def square(number):\n",
        "  return number * number\n",
        "print(square(3))"
      ],
      "execution_count": 9,
      "outputs": [
        {
          "output_type": "stream",
          "text": [
            "9\n"
          ],
          "name": "stdout"
        }
      ]
    },
    {
      "cell_type": "markdown",
      "metadata": {
        "id": "-GM_XiCzmIBM",
        "colab_type": "text"
      },
      "source": [
        "## Classes in Python\n",
        "Like other languages class is the way we make up the language more poweful based on fundamentals of the language. For example, we study time table with one digit. However, based on this basic principle we can multiply or divide with big number. And class in Python like that. It is based on type of data or method, we can build or make up the limitless of classes, functions and method.\n",
        "\n",
        "For example in Python,\n",
        "\n",
        "we have a list\n",
        "\n",
        "numbers = [1, 2, 3]\n",
        "we will have function (or method) by using '.' like numbers.append() or numbers.remove()...\n",
        "\n",
        "Now based on basic type of data we can make new class or new type like this code below:\n",
        "\n"
      ]
    },
    {
      "cell_type": "code",
      "metadata": {
        "id": "PVn0WbxFjkYz",
        "colab_type": "code",
        "colab": {
          "base_uri": "https://localhost:8080/",
          "height": 50
        },
        "outputId": "547486d6-77ff-4256-925a-8966083f04cc"
      },
      "source": [
        "# Classes in Python\n",
        "# How to name is also interesting to differentiate with other type\n",
        "# We use capital words for each sylable like Potrait, Draw, EmailServer...\n",
        "# In class we also have object and functions \n",
        "class Point:\n",
        "  def move(self):\n",
        "    print(\"Move\")\n",
        "\n",
        "  def draw(self):\n",
        "    print(\"Draw\")\n",
        "\n",
        "# We create any object based on class Point\n",
        "point1 = Point()\n",
        "point1.draw()\n",
        "# Now we have object point1 already and we can define attributes for this object\n",
        "point1.x = 1\n",
        "point1.y = 2\n",
        "print(point1.x)"
      ],
      "execution_count": 11,
      "outputs": [
        {
          "output_type": "stream",
          "text": [
            "Draw\n",
            "1\n"
          ],
          "name": "stdout"
        }
      ]
    },
    {
      "cell_type": "markdown",
      "metadata": {
        "id": "8nbB79-pp7TJ",
        "colab_type": "text"
      },
      "source": [
        "## Constructors\n",
        "Or this can be called initialise the object when we want to create the parameters for the class"
      ]
    },
    {
      "cell_type": "code",
      "metadata": {
        "id": "cmwb0EJ9q1HH",
        "colab_type": "code",
        "colab": {
          "base_uri": "https://localhost:8080/",
          "height": 50
        },
        "outputId": "78f0a274-e1f1-416b-9117-e31b5e8b1b3b"
      },
      "source": [
        "class Point:\n",
        "  def __init__(self, x, y): # Remember we add two under score not one\n",
        "    self.x = x\n",
        "    self.y = y\n",
        "\n",
        "  def move(self):\n",
        "    print(\"Move\")\n",
        "\n",
        "  def draw(self):\n",
        "    print(\"Draw\")\n",
        "\n",
        "point = Point(10, 20)\n",
        "print(point.x)\n",
        "# We can change this variable with different value\n",
        "point.x = 11\n",
        "print(point.x)"
      ],
      "execution_count": 14,
      "outputs": [
        {
          "output_type": "stream",
          "text": [
            "10\n",
            "11\n"
          ],
          "name": "stdout"
        }
      ]
    },
    {
      "cell_type": "markdown",
      "metadata": {
        "id": "Jmp1lm-hr3Cp",
        "colab_type": "text"
      },
      "source": [
        "## Make up a new type\n",
        "class person have\n",
        "\n",
        "  - Name\n",
        "  - talk()"
      ]
    },
    {
      "cell_type": "code",
      "metadata": {
        "id": "yQES86wdsFmH",
        "colab_type": "code",
        "colab": {
          "base_uri": "https://localhost:8080/",
          "height": 50
        },
        "outputId": "b502f7d0-2906-4b70-8821-a407b5c202b1"
      },
      "source": [
        "class Person:\n",
        "  def __init__(self, name):\n",
        "    self.name = name\n",
        "\n",
        "  def talk(self):\n",
        "    print(\"talk\")\n",
        "\n",
        "john = Person(\"John Smith\")\n",
        "print(john.name)\n",
        "john.talk()"
      ],
      "execution_count": 16,
      "outputs": [
        {
          "output_type": "stream",
          "text": [
            "John Smith\n",
            "talk\n"
          ],
          "name": "stdout"
        }
      ]
    },
    {
      "cell_type": "code",
      "metadata": {
        "id": "5J0QsWXHtAt5",
        "colab_type": "code",
        "colab": {
          "base_uri": "https://localhost:8080/",
          "height": 50
        },
        "outputId": "29ff715d-66c7-47bb-e606-e9317bd7dda2"
      },
      "source": [
        "# However, we want to call the name inside the class so we can do like this\n",
        "class Person:\n",
        "  def __init__(self, name):\n",
        "    self.name = name\n",
        "\n",
        "  def talk(self):\n",
        "    print(f\"Hi, I am {self.name}\")\n",
        "\n",
        "john = Person(\"John Smith\")\n",
        "john.talk()\n",
        "\n",
        "bob = Person(\"Bob Dylan\")\n",
        "bob.talk()"
      ],
      "execution_count": 18,
      "outputs": [
        {
          "output_type": "stream",
          "text": [
            "Hi, I am John Smith\n",
            "Hi, I am Bob Dylan\n"
          ],
          "name": "stdout"
        }
      ]
    },
    {
      "cell_type": "markdown",
      "metadata": {
        "id": "q6SNYWOMtjWH",
        "colab_type": "text"
      },
      "source": [
        "## Inheritance\n",
        "This is the way we re-use the code.\n",
        "For example, If we have two different classes to represent dogs and cats. Both cat and dog can have the same function walk. So we can make up each class has the function walk. However, this way wastes the resources. So we can re-use from previous class if it contains the needed function. This is called inheritance in Python.\n",
        "\n",
        "See the code below to understand more how we inherit the function from general class."
      ]
    },
    {
      "cell_type": "code",
      "metadata": {
        "id": "iEZi_yEt0Cl-",
        "colab_type": "code",
        "colab": {
          "base_uri": "https://localhost:8080/",
          "height": 34
        },
        "outputId": "d7f8f7e7-b283-456c-8ef1-ad3bfae834d8"
      },
      "source": [
        "class Mammal:\n",
        "  def walk(self):\n",
        "    print(\"walk\")\n",
        "# Python does not allow to use empty class so we can use pass for exceptions\n",
        "class Dog(Mammal):\n",
        "  pass\n",
        "\n",
        "class Cat(Mammal):\n",
        "  pass\n",
        "\n",
        "dog1 = Dog()\n",
        "dog1.walk()"
      ],
      "execution_count": 19,
      "outputs": [
        {
          "output_type": "stream",
          "text": [
            "walk\n"
          ],
          "name": "stdout"
        }
      ]
    },
    {
      "cell_type": "code",
      "metadata": {
        "id": "H2YZTO9m07dS",
        "colab_type": "code",
        "colab": {
          "base_uri": "https://localhost:8080/",
          "height": 118
        },
        "outputId": "53d3d6cc-d2cc-4e4e-81ea-d420b9d71014"
      },
      "source": [
        "class Mammal:\n",
        "  def walk(self):\n",
        "    print(\"walk\")\n",
        "\n",
        "class Dog(Mammal):\n",
        "  def bark(self):\n",
        "    print(\"bark\")\n",
        "\n",
        "class Cat(Mammal):\n",
        "  def meow(self):\n",
        "    print(\"meow meow\")\n",
        "\n",
        "dog1 = Dog()\n",
        "print(\"Dog\")\n",
        "dog1.walk()\n",
        "dog1.bark()\n",
        "\n",
        "print()\n",
        "print(\"Cat\")\n",
        "cat1 = Cat()\n",
        "cat1.meow()"
      ],
      "execution_count": 22,
      "outputs": [
        {
          "output_type": "stream",
          "text": [
            "Dog\n",
            "walk\n",
            "bark\n",
            "\n",
            "Cat\n",
            "meow meow\n"
          ],
          "name": "stdout"
        }
      ]
    },
    {
      "cell_type": "markdown",
      "metadata": {
        "id": "FB-J_GnK1pb-",
        "colab_type": "text"
      },
      "source": [
        "## Modules in Python\n",
        "Module is the python file that includes a mount of functions that we can re-use.\n",
        "This is the way Python open the library.\n",
        "\n",
        "For example when we use the library **numpy**. We need to call the *numpy.py* file to re-use the fuctions or other things in this file.\n",
        "\n",
        "We will use import __module__ syntax and from __module__ import **function** to call the module."
      ]
    },
    {
      "cell_type": "code",
      "metadata": {
        "id": "ZYwQDCkq2M5z",
        "colab_type": "code",
        "colab": {}
      },
      "source": [
        "# Creat the new Python file for the converter module\n",
        "def lbs_to_kg(weight):\n",
        "  return weight * 0.45\n",
        "\n",
        "def kg_to_lbs(weight):\n",
        "  return weight / 0.45"
      ],
      "execution_count": 0,
      "outputs": []
    },
    {
      "cell_type": "code",
      "metadata": {
        "id": "hmbP1S9U348Q",
        "colab_type": "code",
        "colab": {}
      },
      "source": [
        "import converters\n",
        "from converters import kg_to_lbs\n",
        "\n",
        "print(converters.kg_to_lbs(70))"
      ],
      "execution_count": 0,
      "outputs": []
    },
    {
      "cell_type": "markdown",
      "metadata": {
        "id": "T99w-CoL5MJW",
        "colab_type": "text"
      },
      "source": [
        "## Another example of the Python module\n",
        "Make a module utilis with the find_max function"
      ]
    },
    {
      "cell_type": "code",
      "metadata": {
        "id": "Q9yAvYfX5cZN",
        "colab_type": "code",
        "colab": {}
      },
      "source": [
        "# this code in the file utilis.py\n",
        "def find_max(numbers):\n",
        "  max = numbers[0]\n",
        "  for number in numbers:\n",
        "    if number > max:\n",
        "      max = number\n",
        "  return max"
      ],
      "execution_count": 0,
      "outputs": []
    },
    {
      "cell_type": "code",
      "metadata": {
        "id": "LcbPGv7C5uu0",
        "colab_type": "code",
        "colab": {}
      },
      "source": [
        "# there are two way to import the function in one module\n",
        "import utilis\n",
        "utilis.find_max()\n"
      ],
      "execution_count": 0,
      "outputs": []
    },
    {
      "cell_type": "code",
      "metadata": {
        "id": "LEkM12506S51",
        "colab_type": "code",
        "colab": {}
      },
      "source": [
        "# Or using from then import we do not need to use object\n",
        "from utilis import find_max\n",
        "numbers = [1, 2, 3]\n",
        "max = find_max(numbers)\n",
        "print(max)"
      ],
      "execution_count": 0,
      "outputs": []
    },
    {
      "cell_type": "markdown",
      "metadata": {
        "id": "2rPrSz3R7L52",
        "colab_type": "text"
      },
      "source": [
        "## Packages in Python\n",
        "A package in python is like a folder or a directory. It contains the numbers of modules that can be re-used for the future.\n",
        "\n",
        "Each Package has\n",
        "```\n",
        "__init__ module to define the package\n",
        "```\n",
        "\n"
      ]
    }
  ]
}